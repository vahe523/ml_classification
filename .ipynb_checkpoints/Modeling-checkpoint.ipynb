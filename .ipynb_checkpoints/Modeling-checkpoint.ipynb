{
 "cells": [
  {
   "cell_type": "code",
   "execution_count": 1,
   "id": "ce47360a-e57c-4c0f-adb3-6d677db18a9f",
   "metadata": {
    "tags": []
   },
   "outputs": [
    {
     "name": "stderr",
     "output_type": "stream",
     "text": [
      "2024-03-18 15:47:52.647873: E external/local_xla/xla/stream_executor/cuda/cuda_dnn.cc:9261] Unable to register cuDNN factory: Attempting to register factory for plugin cuDNN when one has already been registered\n",
      "2024-03-18 15:47:52.647981: E external/local_xla/xla/stream_executor/cuda/cuda_fft.cc:607] Unable to register cuFFT factory: Attempting to register factory for plugin cuFFT when one has already been registered\n",
      "2024-03-18 15:47:52.707264: E external/local_xla/xla/stream_executor/cuda/cuda_blas.cc:1515] Unable to register cuBLAS factory: Attempting to register factory for plugin cuBLAS when one has already been registered\n",
      "2024-03-18 15:47:52.819148: I tensorflow/core/platform/cpu_feature_guard.cc:182] This TensorFlow binary is optimized to use available CPU instructions in performance-critical operations.\n",
      "To enable the following instructions: AVX2 FMA, in other operations, rebuild TensorFlow with the appropriate compiler flags.\n",
      "2024-03-18 15:47:54.200411: W tensorflow/compiler/tf2tensorrt/utils/py_utils.cc:38] TF-TRT Warning: Could not find TensorRT\n"
     ]
    }
   ],
   "source": [
    "from sklearn.model_selection import StratifiedShuffleSplit, train_test_split\n",
    "from sklearn.preprocessing import StandardScaler, RobustScaler, MinMaxScaler\n",
    "import numpy as np\n",
    "import pandas as pd\n",
    "import matplotlib.pyplot as plt\n",
    "import seaborn as sns\n",
    "from sklearn.linear_model import LogisticRegression\n",
    "from sklearn.svm import SVC, LinearSVC\n",
    "from sklearn.tree import DecisionTreeClassifier\n",
    "from sklearn.ensemble import RandomForestClassifier, AdaBoostClassifier, BaggingClassifier, ExtraTreesClassifier, GradientBoostingClassifier, StackingClassifier\n",
    "from sklearn.naive_bayes import MultinomialNB\n",
    "from sklearn.neighbors import KNeighborsClassifier\n",
    "import func\n",
    "import modeling\n",
    "import tensorflow as tf\n",
    "from tensorflow.keras import losses\n",
    "from tensorflow.keras.metrics import Recall, Precision, R2Score\n",
    "from sklearn.decomposition import PCA, KernelPCA\n",
    "from sklearn.cluster import KMeans, MeanShift\n",
    "import matplotlib.pyplot as plt\n",
    "from sklearn.preprocessing import OneHotEncoder\n",
    "from scipy import stats\n",
    "from imblearn.over_sampling import SMOTE"
   ]
  },
  {
   "cell_type": "code",
   "execution_count": 2,
   "id": "ee688e69-7d7e-4d4c-b05d-c8f23e5bf6ac",
   "metadata": {
    "tags": []
   },
   "outputs": [],
   "source": [
    "train_data = pd.read_csv('train.csv')\n",
    "valid_data = pd.read_csv('validation.csv')\n",
    "test_data = pd.read_csv('test.csv')"
   ]
  },
  {
   "cell_type": "code",
   "execution_count": 10,
   "id": "701fadeb-c967-4c7a-84a9-62b5af49e801",
   "metadata": {
    "tags": []
   },
   "outputs": [
    {
     "data": {
      "text/html": [
       "<div>\n",
       "<style scoped>\n",
       "    .dataframe tbody tr th:only-of-type {\n",
       "        vertical-align: middle;\n",
       "    }\n",
       "\n",
       "    .dataframe tbody tr th {\n",
       "        vertical-align: top;\n",
       "    }\n",
       "\n",
       "    .dataframe thead th {\n",
       "        text-align: right;\n",
       "    }\n",
       "</style>\n",
       "<table border=\"1\" class=\"dataframe\">\n",
       "  <thead>\n",
       "    <tr style=\"text-align: right;\">\n",
       "      <th></th>\n",
       "      <th>type</th>\n",
       "      <th>fixed acidity</th>\n",
       "      <th>volatile acidity</th>\n",
       "      <th>citric acid</th>\n",
       "      <th>residual sugar</th>\n",
       "      <th>chlorides</th>\n",
       "      <th>free sulfur dioxide</th>\n",
       "      <th>total sulfur dioxide</th>\n",
       "      <th>density</th>\n",
       "      <th>pH</th>\n",
       "      <th>sulphates</th>\n",
       "      <th>alcohol</th>\n",
       "      <th>free/total sulfur</th>\n",
       "      <th>quality</th>\n",
       "    </tr>\n",
       "  </thead>\n",
       "  <tbody>\n",
       "    <tr>\n",
       "      <th>0</th>\n",
       "      <td>1.0</td>\n",
       "      <td>6.5</td>\n",
       "      <td>0.16</td>\n",
       "      <td>0.34</td>\n",
       "      <td>1.4</td>\n",
       "      <td>0.029</td>\n",
       "      <td>29.0</td>\n",
       "      <td>133.0</td>\n",
       "      <td>0.99108</td>\n",
       "      <td>3.33</td>\n",
       "      <td>0.64</td>\n",
       "      <td>11.5</td>\n",
       "      <td>0.218045</td>\n",
       "      <td>7</td>\n",
       "    </tr>\n",
       "    <tr>\n",
       "      <th>1</th>\n",
       "      <td>1.0</td>\n",
       "      <td>6.6</td>\n",
       "      <td>0.27</td>\n",
       "      <td>0.31</td>\n",
       "      <td>5.3</td>\n",
       "      <td>0.137</td>\n",
       "      <td>35.0</td>\n",
       "      <td>163.0</td>\n",
       "      <td>0.99510</td>\n",
       "      <td>3.20</td>\n",
       "      <td>0.38</td>\n",
       "      <td>9.3</td>\n",
       "      <td>0.214724</td>\n",
       "      <td>5</td>\n",
       "    </tr>\n",
       "    <tr>\n",
       "      <th>2</th>\n",
       "      <td>1.0</td>\n",
       "      <td>6.2</td>\n",
       "      <td>0.36</td>\n",
       "      <td>0.27</td>\n",
       "      <td>3.2</td>\n",
       "      <td>0.032</td>\n",
       "      <td>13.0</td>\n",
       "      <td>73.0</td>\n",
       "      <td>0.98942</td>\n",
       "      <td>2.90</td>\n",
       "      <td>0.69</td>\n",
       "      <td>12.6</td>\n",
       "      <td>0.178082</td>\n",
       "      <td>7</td>\n",
       "    </tr>\n",
       "    <tr>\n",
       "      <th>3</th>\n",
       "      <td>1.0</td>\n",
       "      <td>6.4</td>\n",
       "      <td>0.22</td>\n",
       "      <td>0.34</td>\n",
       "      <td>1.4</td>\n",
       "      <td>0.023</td>\n",
       "      <td>56.0</td>\n",
       "      <td>115.0</td>\n",
       "      <td>0.98958</td>\n",
       "      <td>3.18</td>\n",
       "      <td>0.70</td>\n",
       "      <td>11.7</td>\n",
       "      <td>0.486957</td>\n",
       "      <td>6</td>\n",
       "    </tr>\n",
       "    <tr>\n",
       "      <th>4</th>\n",
       "      <td>1.0</td>\n",
       "      <td>7.0</td>\n",
       "      <td>0.25</td>\n",
       "      <td>0.45</td>\n",
       "      <td>2.3</td>\n",
       "      <td>0.045</td>\n",
       "      <td>40.0</td>\n",
       "      <td>118.0</td>\n",
       "      <td>0.99064</td>\n",
       "      <td>3.16</td>\n",
       "      <td>0.48</td>\n",
       "      <td>11.9</td>\n",
       "      <td>0.338983</td>\n",
       "      <td>7</td>\n",
       "    </tr>\n",
       "  </tbody>\n",
       "</table>\n",
       "</div>"
      ],
      "text/plain": [
       "   type  fixed acidity  volatile acidity  citric acid  residual sugar  \\\n",
       "0   1.0            6.5              0.16         0.34             1.4   \n",
       "1   1.0            6.6              0.27         0.31             5.3   \n",
       "2   1.0            6.2              0.36         0.27             3.2   \n",
       "3   1.0            6.4              0.22         0.34             1.4   \n",
       "4   1.0            7.0              0.25         0.45             2.3   \n",
       "\n",
       "   chlorides  free sulfur dioxide  total sulfur dioxide  density    pH  \\\n",
       "0      0.029                 29.0                 133.0  0.99108  3.33   \n",
       "1      0.137                 35.0                 163.0  0.99510  3.20   \n",
       "2      0.032                 13.0                  73.0  0.98942  2.90   \n",
       "3      0.023                 56.0                 115.0  0.98958  3.18   \n",
       "4      0.045                 40.0                 118.0  0.99064  3.16   \n",
       "\n",
       "   sulphates  alcohol  free/total sulfur  quality  \n",
       "0       0.64     11.5           0.218045        7  \n",
       "1       0.38      9.3           0.214724        5  \n",
       "2       0.69     12.6           0.178082        7  \n",
       "3       0.70     11.7           0.486957        6  \n",
       "4       0.48     11.9           0.338983        7  "
      ]
     },
     "execution_count": 10,
     "metadata": {},
     "output_type": "execute_result"
    }
   ],
   "source": [
    "train_data.head()"
   ]
  },
  {
   "cell_type": "code",
   "execution_count": 4,
   "id": "46bed919-0ca1-42b9-b009-1130f3df69f2",
   "metadata": {
    "tags": []
   },
   "outputs": [],
   "source": [
    "X_train, y_train = train_data.iloc[:,:-1], train_data.iloc[:,-1]\n",
    "X_valid, y_valid = valid_data.iloc[:,:-1], valid_data.iloc[:,-1]\n",
    "X_test, y_test = test_data.iloc[:,:-1], test_data.iloc[:,-1]"
   ]
  },
  {
   "cell_type": "code",
   "execution_count": 7,
   "id": "184cbddb-ad33-43b3-96e3-a6868ff50c22",
   "metadata": {
    "tags": []
   },
   "outputs": [],
   "source": [
    "# sm = SMOTE(random_state=42)\n",
    "# X_train, y_train = sm.fit_resample(X_train, y_train)"
   ]
  },
  {
   "cell_type": "code",
   "execution_count": 8,
   "id": "bac60618-a464-4f5a-8260-874e9f534cbe",
   "metadata": {
    "tags": []
   },
   "outputs": [],
   "source": [
    "# y_train.value_counts(normalize=True)"
   ]
  },
  {
   "cell_type": "code",
   "execution_count": 9,
   "id": "02ecf5c0-a44b-4e93-b41a-9effdf4f90ad",
   "metadata": {
    "tags": []
   },
   "outputs": [],
   "source": [
    "ss = StandardScaler()\n",
    "ss.fit(X_train.iloc[:,1:-1])\n",
    "    \n",
    "numerical_columns = X_train.columns.tolist()[1:-1]\n",
    "\n",
    "X_train_s = pd.DataFrame(ss.transform(X_train.iloc[:,1:-1]), columns=numerical_columns)\n",
    "X_valid_s = pd.DataFrame(ss.transform(X_valid.iloc[:,1:-1]), columns=numerical_columns)\n",
    "X_test_s = pd.DataFrame(ss.transform(X_test.iloc[:,1:-1]), columns=numerical_columns)\n",
    "\n",
    "X_train_s = pd.concat([X_train_s, X_train.iloc[:,0]], axis=1)\n",
    "X_valid_s = pd.concat([X_valid_s, X_valid.iloc[:,0]], axis=1)\n",
    "X_test_s = pd.concat([X_test_s, X_test.iloc[:,0]], axis=1)"
   ]
  },
  {
   "cell_type": "markdown",
   "id": "09117429-4d92-4f33-bb87-73a8829838bb",
   "metadata": {
    "tags": []
   },
   "source": [
    "# Models"
   ]
  },
  {
   "cell_type": "code",
   "execution_count": 117,
   "id": "2c091b92-4284-41a1-b3ef-b5dadc7142e6",
   "metadata": {
    "tags": []
   },
   "outputs": [],
   "source": [
    "# from sklearn.preprocessing import PolynomialFeatures\n",
    "\n",
    "# pf = PolynomialFeatures(degree=2, include_bias=True)\n",
    "# pf.fit(X_train_s)\n",
    "\n",
    "# num_columns = ['p_'+str(i) for i in range(pf.transform(X_train_s).shape[1])]\n",
    "\n",
    "# X_train_p = pd.DataFrame(pf.transform(X_train_s), columns=num_columns)\n",
    "# X_test_p = pd.DataFrame(pf.transform(X_test_s), columns=num_columns)"
   ]
  },
  {
   "cell_type": "code",
   "execution_count": 11,
   "id": "165dba19-ec2e-4b5a-bcbc-63ff15a3a555",
   "metadata": {
    "tags": []
   },
   "outputs": [],
   "source": [
    "gb = GradientBoostingClassifier(random_state=42, n_estimators=100, subsample=0.7, validation_fraction=0.2) #1\n",
    "lr = LogisticRegression(random_state=42, max_iter=1000, dual=False, solver='liblinear')\n",
    "ab = AdaBoostClassifier(estimator=DecisionTreeClassifier(random_state=42), n_estimators=5)\n",
    "df = DecisionTreeClassifier(random_state=42, max_depth=7, criterion='entropy')\n",
    "rf = RandomForestClassifier(random_state=42, oob_score=True, n_estimators=20)\n",
    "bc = BaggingClassifier(estimator=ab)\n",
    "svc = SVC(kernel='rbf', random_state=42, probability=True, gamma='scale')\n",
    "et = ExtraTreesClassifier(random_state=42, n_estimators=10, max_depth=9)\n",
    "knn = KNeighborsClassifier(n_neighbors=12)"
   ]
  },
  {
   "cell_type": "code",
   "execution_count": 12,
   "id": "f2b61d29-616f-4b32-b7ba-c30047231bd0",
   "metadata": {
    "tags": []
   },
   "outputs": [],
   "source": [
    "sc = StackingClassifier(estimators=[('df', df), ('et', et), ('gb', gb), ('ab', ab), ('lr', lr)], final_estimator=lr, n_jobs=-1)"
   ]
  },
  {
   "cell_type": "code",
   "execution_count": null,
   "id": "8750543f-8611-4c3a-9492-fdf487a7bf32",
   "metadata": {},
   "outputs": [],
   "source": [
    "lr = LogisticRegression(random_state=42)"
   ]
  },
  {
   "cell_type": "code",
   "execution_count": 16,
   "id": "6279587f-b887-4273-b405-ae5b5baf3d04",
   "metadata": {
    "tags": []
   },
   "outputs": [],
   "source": [
    "y_train_pred, y_valid_pred, model, y_train_pred_prob, y_valid_pred_prob  = modeling.train(lr, X_train_s.iloc[:,:].values,y_train.iloc[:].values,\n",
    "                                                                                        X_valid_s.iloc[:,:].values,y_valid.iloc[:].values)"
   ]
  },
  {
   "cell_type": "code",
   "execution_count": 18,
   "id": "a4954e08-213e-442b-8ebe-e41531287de5",
   "metadata": {
    "tags": []
   },
   "outputs": [],
   "source": [
    "pr = modeling.Ploting_And_Report(y_train,y_train_pred,y_valid,y_valid_pred)"
   ]
  },
  {
   "cell_type": "code",
   "execution_count": 19,
   "id": "b3b7cd01-ea73-4ac8-9fa8-7b78c0dc6a48",
   "metadata": {
    "tags": []
   },
   "outputs": [
    {
     "name": "stdout",
     "output_type": "stream",
     "text": [
      "Train classification_report\n",
      "\n",
      "              precision    recall  f1-score   support\n",
      "\n",
      "           3       1.00      0.05      0.09        22\n",
      "           4       1.00      0.01      0.01       172\n",
      "           5       0.59      0.61      0.60      1722\n",
      "           6       0.52      0.73      0.61      2285\n",
      "           7       0.54      0.15      0.24       897\n",
      "           8       0.00      0.00      0.00       160\n",
      "           9       0.00      0.00      0.00         4\n",
      "\n",
      "    accuracy                           0.54      5262\n",
      "   macro avg       0.52      0.22      0.22      5262\n",
      "weighted avg       0.55      0.54      0.50      5262\n",
      "\n",
      "\n",
      "\n",
      "Test classification_report\n",
      "\n",
      "              precision    recall  f1-score   support\n",
      "\n",
      "           3       0.00      0.00      0.00         3\n",
      "           4       0.00      0.00      0.00        23\n",
      "           5       0.55      0.61      0.58       184\n",
      "           6       0.52      0.71      0.60       258\n",
      "           7       0.43      0.14      0.21        91\n",
      "           8       0.00      0.00      0.00        25\n",
      "           9       0.00      0.00      0.00         1\n",
      "\n",
      "    accuracy                           0.53       585\n",
      "   macro avg       0.22      0.21      0.20       585\n",
      "weighted avg       0.47      0.53      0.48       585\n",
      "\n"
     ]
    },
    {
     "name": "stderr",
     "output_type": "stream",
     "text": [
      "/home/user/anaconda3/lib/python3.11/site-packages/sklearn/metrics/_classification.py:1344: UndefinedMetricWarning: Precision and F-score are ill-defined and being set to 0.0 in labels with no predicted samples. Use `zero_division` parameter to control this behavior.\n",
      "  _warn_prf(average, modifier, msg_start, len(result))\n",
      "/home/user/anaconda3/lib/python3.11/site-packages/sklearn/metrics/_classification.py:1344: UndefinedMetricWarning: Precision and F-score are ill-defined and being set to 0.0 in labels with no predicted samples. Use `zero_division` parameter to control this behavior.\n",
      "  _warn_prf(average, modifier, msg_start, len(result))\n",
      "/home/user/anaconda3/lib/python3.11/site-packages/sklearn/metrics/_classification.py:1344: UndefinedMetricWarning: Precision and F-score are ill-defined and being set to 0.0 in labels with no predicted samples. Use `zero_division` parameter to control this behavior.\n",
      "  _warn_prf(average, modifier, msg_start, len(result))\n",
      "/home/user/anaconda3/lib/python3.11/site-packages/sklearn/metrics/_classification.py:1344: UndefinedMetricWarning: Precision and F-score are ill-defined and being set to 0.0 in labels with no predicted samples. Use `zero_division` parameter to control this behavior.\n",
      "  _warn_prf(average, modifier, msg_start, len(result))\n",
      "/home/user/anaconda3/lib/python3.11/site-packages/sklearn/metrics/_classification.py:1344: UndefinedMetricWarning: Precision and F-score are ill-defined and being set to 0.0 in labels with no predicted samples. Use `zero_division` parameter to control this behavior.\n",
      "  _warn_prf(average, modifier, msg_start, len(result))\n",
      "/home/user/anaconda3/lib/python3.11/site-packages/sklearn/metrics/_classification.py:1344: UndefinedMetricWarning: Precision and F-score are ill-defined and being set to 0.0 in labels with no predicted samples. Use `zero_division` parameter to control this behavior.\n",
      "  _warn_prf(average, modifier, msg_start, len(result))\n"
     ]
    }
   ],
   "source": [
    "pr.show_classification_report()"
   ]
  },
  {
   "cell_type": "code",
   "execution_count": 20,
   "id": "37fd096f-c447-4d14-8316-78a0aa1620f7",
   "metadata": {},
   "outputs": [
    {
     "ename": "ValueError",
     "evalue": "multiclass format is not supported",
     "output_type": "error",
     "traceback": [
      "\u001b[0;31m---------------------------------------------------------------------------\u001b[0m",
      "\u001b[0;31mValueError\u001b[0m                                Traceback (most recent call last)",
      "Cell \u001b[0;32mIn[20], line 1\u001b[0m\n\u001b[0;32m----> 1\u001b[0m pr\u001b[38;5;241m.\u001b[39mplot_roc_curve(y_train_pred_prob, y_valid_pred_prob)\n",
      "File \u001b[0;32m~/PycharmProjects/kaggle/wine/modeling.py:114\u001b[0m, in \u001b[0;36mPloting_And_Report.plot_roc_curve\u001b[0;34m(self, y_train_pred_prob, y_test_pred_prob)\u001b[0m\n\u001b[1;32m    112\u001b[0m \u001b[38;5;28;01mdef\u001b[39;00m \u001b[38;5;21mplot_roc_curve\u001b[39m(\u001b[38;5;28mself\u001b[39m,y_train_pred_prob, y_test_pred_prob):\n\u001b[0;32m--> 114\u001b[0m     fpr_train, tpr_train, thresholds \u001b[38;5;241m=\u001b[39m roc_curve(\u001b[38;5;28mself\u001b[39m\u001b[38;5;241m.\u001b[39my_train, y_train_pred_prob)\n\u001b[1;32m    115\u001b[0m     fpr_test, tpr_test, thresholds \u001b[38;5;241m=\u001b[39m roc_curve(\u001b[38;5;28mself\u001b[39m\u001b[38;5;241m.\u001b[39my_test, y_test_pred_prob)\n\u001b[1;32m    117\u001b[0m     fig, ax \u001b[38;5;241m=\u001b[39m plt\u001b[38;5;241m.\u001b[39msubplots(\u001b[38;5;241m1\u001b[39m, \u001b[38;5;241m2\u001b[39m, figsize\u001b[38;5;241m=\u001b[39m(\u001b[38;5;241m15\u001b[39m,\u001b[38;5;241m6\u001b[39m))\n",
      "File \u001b[0;32m~/anaconda3/lib/python3.11/site-packages/sklearn/metrics/_ranking.py:992\u001b[0m, in \u001b[0;36mroc_curve\u001b[0;34m(y_true, y_score, pos_label, sample_weight, drop_intermediate)\u001b[0m\n\u001b[1;32m    904\u001b[0m \u001b[38;5;28;01mdef\u001b[39;00m \u001b[38;5;21mroc_curve\u001b[39m(\n\u001b[1;32m    905\u001b[0m     y_true, y_score, \u001b[38;5;241m*\u001b[39m, pos_label\u001b[38;5;241m=\u001b[39m\u001b[38;5;28;01mNone\u001b[39;00m, sample_weight\u001b[38;5;241m=\u001b[39m\u001b[38;5;28;01mNone\u001b[39;00m, drop_intermediate\u001b[38;5;241m=\u001b[39m\u001b[38;5;28;01mTrue\u001b[39;00m\n\u001b[1;32m    906\u001b[0m ):\n\u001b[1;32m    907\u001b[0m \u001b[38;5;250m    \u001b[39m\u001b[38;5;124;03m\"\"\"Compute Receiver operating characteristic (ROC).\u001b[39;00m\n\u001b[1;32m    908\u001b[0m \n\u001b[1;32m    909\u001b[0m \u001b[38;5;124;03m    Note: this implementation is restricted to the binary classification task.\u001b[39;00m\n\u001b[0;32m   (...)\u001b[0m\n\u001b[1;32m    990\u001b[0m \u001b[38;5;124;03m    array([1.8 , 0.8 , 0.4 , 0.35, 0.1 ])\u001b[39;00m\n\u001b[1;32m    991\u001b[0m \u001b[38;5;124;03m    \"\"\"\u001b[39;00m\n\u001b[0;32m--> 992\u001b[0m     fps, tps, thresholds \u001b[38;5;241m=\u001b[39m _binary_clf_curve(\n\u001b[1;32m    993\u001b[0m         y_true, y_score, pos_label\u001b[38;5;241m=\u001b[39mpos_label, sample_weight\u001b[38;5;241m=\u001b[39msample_weight\n\u001b[1;32m    994\u001b[0m     )\n\u001b[1;32m    996\u001b[0m     \u001b[38;5;66;03m# Attempt to drop thresholds corresponding to points in between and\u001b[39;00m\n\u001b[1;32m    997\u001b[0m     \u001b[38;5;66;03m# collinear with other points. These are always suboptimal and do not\u001b[39;00m\n\u001b[1;32m    998\u001b[0m     \u001b[38;5;66;03m# appear on a plotted ROC curve (and thus do not affect the AUC).\u001b[39;00m\n\u001b[0;32m   (...)\u001b[0m\n\u001b[1;32m   1003\u001b[0m     \u001b[38;5;66;03m# but does not drop more complicated cases like fps = [1, 3, 7],\u001b[39;00m\n\u001b[1;32m   1004\u001b[0m     \u001b[38;5;66;03m# tps = [1, 2, 4]; there is no harm in keeping too many thresholds.\u001b[39;00m\n\u001b[1;32m   1005\u001b[0m     \u001b[38;5;28;01mif\u001b[39;00m drop_intermediate \u001b[38;5;129;01mand\u001b[39;00m \u001b[38;5;28mlen\u001b[39m(fps) \u001b[38;5;241m>\u001b[39m \u001b[38;5;241m2\u001b[39m:\n",
      "File \u001b[0;32m~/anaconda3/lib/python3.11/site-packages/sklearn/metrics/_ranking.py:749\u001b[0m, in \u001b[0;36m_binary_clf_curve\u001b[0;34m(y_true, y_score, pos_label, sample_weight)\u001b[0m\n\u001b[1;32m    747\u001b[0m y_type \u001b[38;5;241m=\u001b[39m type_of_target(y_true, input_name\u001b[38;5;241m=\u001b[39m\u001b[38;5;124m\"\u001b[39m\u001b[38;5;124my_true\u001b[39m\u001b[38;5;124m\"\u001b[39m)\n\u001b[1;32m    748\u001b[0m \u001b[38;5;28;01mif\u001b[39;00m \u001b[38;5;129;01mnot\u001b[39;00m (y_type \u001b[38;5;241m==\u001b[39m \u001b[38;5;124m\"\u001b[39m\u001b[38;5;124mbinary\u001b[39m\u001b[38;5;124m\"\u001b[39m \u001b[38;5;129;01mor\u001b[39;00m (y_type \u001b[38;5;241m==\u001b[39m \u001b[38;5;124m\"\u001b[39m\u001b[38;5;124mmulticlass\u001b[39m\u001b[38;5;124m\"\u001b[39m \u001b[38;5;129;01mand\u001b[39;00m pos_label \u001b[38;5;129;01mis\u001b[39;00m \u001b[38;5;129;01mnot\u001b[39;00m \u001b[38;5;28;01mNone\u001b[39;00m)):\n\u001b[0;32m--> 749\u001b[0m     \u001b[38;5;28;01mraise\u001b[39;00m \u001b[38;5;167;01mValueError\u001b[39;00m(\u001b[38;5;124m\"\u001b[39m\u001b[38;5;132;01m{0}\u001b[39;00m\u001b[38;5;124m format is not supported\u001b[39m\u001b[38;5;124m\"\u001b[39m\u001b[38;5;241m.\u001b[39mformat(y_type))\n\u001b[1;32m    751\u001b[0m check_consistent_length(y_true, y_score, sample_weight)\n\u001b[1;32m    752\u001b[0m y_true \u001b[38;5;241m=\u001b[39m column_or_1d(y_true)\n",
      "\u001b[0;31mValueError\u001b[0m: multiclass format is not supported"
     ]
    }
   ],
   "source": [
    "pr.plot_roc_curve(y_train_pred_prob, y_valid_pred_prob)"
   ]
  },
  {
   "cell_type": "code",
   "execution_count": null,
   "id": "9ae78a27-040c-4bde-87b8-a004715a37d1",
   "metadata": {},
   "outputs": [],
   "source": []
  }
 ],
 "metadata": {
  "kernelspec": {
   "display_name": "Python 3 (ipykernel)",
   "language": "python",
   "name": "python3"
  },
  "language_info": {
   "codemirror_mode": {
    "name": "ipython",
    "version": 3
   },
   "file_extension": ".py",
   "mimetype": "text/x-python",
   "name": "python",
   "nbconvert_exporter": "python",
   "pygments_lexer": "ipython3",
   "version": "3.11.5"
  }
 },
 "nbformat": 4,
 "nbformat_minor": 5
}
