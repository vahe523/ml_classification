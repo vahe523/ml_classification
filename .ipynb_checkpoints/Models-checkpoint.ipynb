{
 "cells": [
  {
   "cell_type": "markdown",
   "id": "3f4ec0e1-23de-4871-810b-239b71c606af",
   "metadata": {},
   "source": [
    "# Data Preprocessing"
   ]
  },
  {
   "cell_type": "code",
   "execution_count": 111,
   "id": "0c8c6b2f-2754-4109-935a-c396037fb05e",
   "metadata": {
    "tags": []
   },
   "outputs": [],
   "source": [
    "import pandas as pd\n",
    "import numpy as np\n",
    "import tensorflow as tf\n",
    "import os\n",
    "from sklearn.preprocessing import StandardScaler, MinMaxScaler, RobustScaler, OneHotEncoder, PolynomialFeatures\n",
    "from sklearn.model_selection import StratifiedShuffleSplit,cross_val_score, cross_val_predict, GridSearchCV, RandomizedSearchCV\n",
    "from sklearn.linear_model import LogisticRegression, LogisticRegressionCV\n",
    "from sklearn.tree import DecisionTreeClassifier\n",
    "from sklearn.svm import SVC\n",
    "from sklearn.multiclass import OneVsOneClassifier, OneVsRestClassifier\n",
    "from sklearn.ensemble import RandomForestClassifier, GradientBoostingClassifier, VotingClassifier, AdaBoostClassifier, BaggingClassifier\n",
    "import plot_lib\n",
    "from imblearn import over_sampling\n",
    "import tensorflow.keras.backend as K\n",
    "from xgboost import XGBClassifier"
   ]
  },
  {
   "cell_type": "code",
   "execution_count": 2,
   "id": "2b98acf2-50c1-4fd1-9d29-3afba7541a02",
   "metadata": {
    "tags": []
   },
   "outputs": [],
   "source": [
    "def warn(*args, **kwargs):\n",
    "    pass\n",
    "import warnings\n",
    "warnings.warn = warn"
   ]
  },
  {
   "cell_type": "code",
   "execution_count": 3,
   "id": "2cdec261-8309-403e-b66a-8613610362d8",
   "metadata": {
    "tags": []
   },
   "outputs": [],
   "source": [
    "train = pd.read_csv('final_train.csv')\n",
    "test = pd.read_csv('final_test.csv')"
   ]
  },
  {
   "cell_type": "code",
   "execution_count": 4,
   "id": "436d7edc-d3b5-41b1-a3d1-304c0e8f4bf1",
   "metadata": {
    "tags": []
   },
   "outputs": [
    {
     "data": {
      "text/html": [
       "<div>\n",
       "<style scoped>\n",
       "    .dataframe tbody tr th:only-of-type {\n",
       "        vertical-align: middle;\n",
       "    }\n",
       "\n",
       "    .dataframe tbody tr th {\n",
       "        vertical-align: top;\n",
       "    }\n",
       "\n",
       "    .dataframe thead th {\n",
       "        text-align: right;\n",
       "    }\n",
       "</style>\n",
       "<table border=\"1\" class=\"dataframe\">\n",
       "  <thead>\n",
       "    <tr style=\"text-align: right;\">\n",
       "      <th></th>\n",
       "      <th>N_Days</th>\n",
       "      <th>Age</th>\n",
       "      <th>Bilirubin</th>\n",
       "      <th>Cholesterol</th>\n",
       "      <th>Albumin</th>\n",
       "      <th>Copper</th>\n",
       "      <th>Alk_Phos</th>\n",
       "      <th>SGOT</th>\n",
       "      <th>Tryglicerides</th>\n",
       "      <th>Platelets</th>\n",
       "      <th>...</th>\n",
       "      <th>Drug</th>\n",
       "      <th>Sex</th>\n",
       "      <th>Ascites</th>\n",
       "      <th>Hepatomegaly</th>\n",
       "      <th>Spiders</th>\n",
       "      <th>Edema_0</th>\n",
       "      <th>Edema_1</th>\n",
       "      <th>Edema_2</th>\n",
       "      <th>Stage</th>\n",
       "      <th>Status</th>\n",
       "    </tr>\n",
       "  </thead>\n",
       "  <tbody>\n",
       "    <tr>\n",
       "      <th>0</th>\n",
       "      <td>999</td>\n",
       "      <td>21532</td>\n",
       "      <td>2.3</td>\n",
       "      <td>316.0</td>\n",
       "      <td>3.35</td>\n",
       "      <td>172.0</td>\n",
       "      <td>1601.0</td>\n",
       "      <td>179.80</td>\n",
       "      <td>63.0</td>\n",
       "      <td>394.0</td>\n",
       "      <td>...</td>\n",
       "      <td>0.0</td>\n",
       "      <td>1.0</td>\n",
       "      <td>0.0</td>\n",
       "      <td>0.0</td>\n",
       "      <td>0.0</td>\n",
       "      <td>1.0</td>\n",
       "      <td>0.0</td>\n",
       "      <td>0.0</td>\n",
       "      <td>3.0</td>\n",
       "      <td>2</td>\n",
       "    </tr>\n",
       "    <tr>\n",
       "      <th>1</th>\n",
       "      <td>2574</td>\n",
       "      <td>19237</td>\n",
       "      <td>0.9</td>\n",
       "      <td>364.0</td>\n",
       "      <td>3.54</td>\n",
       "      <td>63.0</td>\n",
       "      <td>1440.0</td>\n",
       "      <td>134.85</td>\n",
       "      <td>88.0</td>\n",
       "      <td>361.0</td>\n",
       "      <td>...</td>\n",
       "      <td>1.0</td>\n",
       "      <td>0.0</td>\n",
       "      <td>0.0</td>\n",
       "      <td>0.0</td>\n",
       "      <td>0.0</td>\n",
       "      <td>1.0</td>\n",
       "      <td>0.0</td>\n",
       "      <td>0.0</td>\n",
       "      <td>3.0</td>\n",
       "      <td>0</td>\n",
       "    </tr>\n",
       "    <tr>\n",
       "      <th>2</th>\n",
       "      <td>3428</td>\n",
       "      <td>13727</td>\n",
       "      <td>3.3</td>\n",
       "      <td>299.0</td>\n",
       "      <td>3.55</td>\n",
       "      <td>131.0</td>\n",
       "      <td>1029.0</td>\n",
       "      <td>119.35</td>\n",
       "      <td>50.0</td>\n",
       "      <td>199.0</td>\n",
       "      <td>...</td>\n",
       "      <td>1.0</td>\n",
       "      <td>0.0</td>\n",
       "      <td>0.0</td>\n",
       "      <td>1.0</td>\n",
       "      <td>1.0</td>\n",
       "      <td>0.0</td>\n",
       "      <td>0.0</td>\n",
       "      <td>1.0</td>\n",
       "      <td>4.0</td>\n",
       "      <td>2</td>\n",
       "    </tr>\n",
       "    <tr>\n",
       "      <th>3</th>\n",
       "      <td>2576</td>\n",
       "      <td>18460</td>\n",
       "      <td>0.6</td>\n",
       "      <td>256.0</td>\n",
       "      <td>3.50</td>\n",
       "      <td>58.0</td>\n",
       "      <td>1653.0</td>\n",
       "      <td>71.30</td>\n",
       "      <td>96.0</td>\n",
       "      <td>269.0</td>\n",
       "      <td>...</td>\n",
       "      <td>1.0</td>\n",
       "      <td>0.0</td>\n",
       "      <td>0.0</td>\n",
       "      <td>0.0</td>\n",
       "      <td>0.0</td>\n",
       "      <td>1.0</td>\n",
       "      <td>0.0</td>\n",
       "      <td>0.0</td>\n",
       "      <td>3.0</td>\n",
       "      <td>0</td>\n",
       "    </tr>\n",
       "    <tr>\n",
       "      <th>4</th>\n",
       "      <td>788</td>\n",
       "      <td>16658</td>\n",
       "      <td>1.1</td>\n",
       "      <td>346.0</td>\n",
       "      <td>3.65</td>\n",
       "      <td>63.0</td>\n",
       "      <td>1181.0</td>\n",
       "      <td>125.55</td>\n",
       "      <td>96.0</td>\n",
       "      <td>298.0</td>\n",
       "      <td>...</td>\n",
       "      <td>1.0</td>\n",
       "      <td>0.0</td>\n",
       "      <td>0.0</td>\n",
       "      <td>1.0</td>\n",
       "      <td>0.0</td>\n",
       "      <td>1.0</td>\n",
       "      <td>0.0</td>\n",
       "      <td>0.0</td>\n",
       "      <td>4.0</td>\n",
       "      <td>0</td>\n",
       "    </tr>\n",
       "  </tbody>\n",
       "</table>\n",
       "<p>5 rows × 21 columns</p>\n",
       "</div>"
      ],
      "text/plain": [
       "   N_Days    Age  Bilirubin  Cholesterol  Albumin  Copper  Alk_Phos    SGOT  \\\n",
       "0     999  21532        2.3        316.0     3.35   172.0    1601.0  179.80   \n",
       "1    2574  19237        0.9        364.0     3.54    63.0    1440.0  134.85   \n",
       "2    3428  13727        3.3        299.0     3.55   131.0    1029.0  119.35   \n",
       "3    2576  18460        0.6        256.0     3.50    58.0    1653.0   71.30   \n",
       "4     788  16658        1.1        346.0     3.65    63.0    1181.0  125.55   \n",
       "\n",
       "   Tryglicerides  Platelets  ...  Drug  Sex  Ascites  Hepatomegaly  Spiders  \\\n",
       "0           63.0      394.0  ...   0.0  1.0      0.0           0.0      0.0   \n",
       "1           88.0      361.0  ...   1.0  0.0      0.0           0.0      0.0   \n",
       "2           50.0      199.0  ...   1.0  0.0      0.0           1.0      1.0   \n",
       "3           96.0      269.0  ...   1.0  0.0      0.0           0.0      0.0   \n",
       "4           96.0      298.0  ...   1.0  0.0      0.0           1.0      0.0   \n",
       "\n",
       "   Edema_0  Edema_1  Edema_2  Stage  Status  \n",
       "0      1.0      0.0      0.0    3.0       2  \n",
       "1      1.0      0.0      0.0    3.0       0  \n",
       "2      0.0      0.0      1.0    4.0       2  \n",
       "3      1.0      0.0      0.0    3.0       0  \n",
       "4      1.0      0.0      0.0    4.0       0  \n",
       "\n",
       "[5 rows x 21 columns]"
      ]
     },
     "execution_count": 4,
     "metadata": {},
     "output_type": "execute_result"
    }
   ],
   "source": [
    "train.head()"
   ]
  },
  {
   "cell_type": "code",
   "execution_count": 5,
   "id": "cf3bb9ee-f749-4c02-8410-822d0dc994ae",
   "metadata": {
    "tags": []
   },
   "outputs": [],
   "source": [
    "num_columns = train.iloc[:,:11].columns.tolist()+['Stage']\n",
    "cat_columns = [i for i in train.columns.tolist() if i not in num_columns+['Status']]"
   ]
  },
  {
   "cell_type": "code",
   "execution_count": 183,
   "id": "90f68490-cc8e-46e8-8f41-8dfa574eb74e",
   "metadata": {
    "tags": []
   },
   "outputs": [],
   "source": [
    "X_train, X_valid = train.iloc[:int(train.shape[0]*0.8),:-1], train.iloc[int(train.shape[0]*0.8):,:-1]\n",
    "y_train, y_valid = train.iloc[:int(train.shape[0]*0.8),-1], train.iloc[int(train.shape[0]*0.8):,-1]"
   ]
  },
  {
   "cell_type": "code",
   "execution_count": 184,
   "id": "6d5f967a-3cad-44e4-88dd-763edb981294",
   "metadata": {
    "tags": []
   },
   "outputs": [],
   "source": [
    "# spliter = StratifiedShuffleSplit(n_splits=1, test_size=0.05, random_state=42, )\n",
    "\n",
    "# for train_row, valid_row in spliter.split(train.iloc[:,:-1], train.iloc[:,-1]):\n",
    "#     X_train, X_valid = train.iloc[train_row,:-1], train.iloc[valid_row,:-1]\n",
    "#     y_train, y_valid = train.iloc[train_row,-1], train.iloc[valid_row,-1]\n",
    "    "
   ]
  },
  {
   "cell_type": "code",
   "execution_count": 185,
   "id": "fbeddc37-600f-4b14-8dfb-ddfc9a32be9a",
   "metadata": {
    "tags": []
   },
   "outputs": [],
   "source": [
    "X_train, X_valid = X_train.reset_index(drop=True), X_valid.reset_index(drop=True)\n",
    "y_train, y_valid = y_train.reset_index(drop=True), y_valid.reset_index(drop=True)"
   ]
  },
  {
   "cell_type": "code",
   "execution_count": 186,
   "id": "2e16bdeb-5216-418f-9a95-26739a25be8f",
   "metadata": {
    "tags": []
   },
   "outputs": [
    {
     "data": {
      "text/plain": [
       "(0    0.629823\n",
       " 2    0.334915\n",
       " 1    0.035262\n",
       " Name: Status, dtype: float64,\n",
       " 0    0.621126\n",
       " 2    0.345984\n",
       " 1    0.032891\n",
       " Name: Status, dtype: float64)"
      ]
     },
     "execution_count": 186,
     "metadata": {},
     "output_type": "execute_result"
    }
   ],
   "source": [
    "y_train.value_counts(normalize=True), y_valid.value_counts(normalize=True)"
   ]
  },
  {
   "cell_type": "code",
   "execution_count": 187,
   "id": "8700def1-a55b-45f8-8721-ba5095e3dbdf",
   "metadata": {
    "tags": []
   },
   "outputs": [],
   "source": [
    "encoder = OneHotEncoder(drop=None, sparse_output=False)\n",
    "y_train_encoder = pd.DataFrame(encoder.fit_transform(y_train.iloc[:].values.reshape(-1,1)), columns=['d', 'c', 'cl'])\n",
    "y_valid_encoder = pd.DataFrame(encoder.transform(y_valid.iloc[:].values.reshape(-1,1)), columns=['d', 'c', 'cl'])"
   ]
  },
  {
   "cell_type": "code",
   "execution_count": 188,
   "id": "7e62189c-0159-4968-b9d3-b9fbf4f963c0",
   "metadata": {
    "tags": []
   },
   "outputs": [],
   "source": [
    "id_test = test.iloc[:,0]"
   ]
  },
  {
   "cell_type": "code",
   "execution_count": 189,
   "id": "c1f10c84-bb62-4edd-93b7-1de883cb707d",
   "metadata": {
    "tags": []
   },
   "outputs": [],
   "source": [
    "ss_x = StandardScaler()\n",
    "X_train_s = pd.concat([pd.DataFrame(ss_x.fit_transform(X_train[num_columns]), columns=num_columns), X_train[cat_columns]], axis=1)\n",
    "X_valid_s = pd.concat([pd.DataFrame(ss_x.transform(X_valid[num_columns]), columns=num_columns), X_valid[cat_columns]], axis=1)\n",
    "\n",
    "test_s = pd.concat([pd.DataFrame(ss_x.transform(test[num_columns]), columns=num_columns), test[cat_columns]], axis=1)"
   ]
  },
  {
   "cell_type": "code",
   "execution_count": 190,
   "id": "bbc163c3-b7d1-45a9-a70a-03ad8e2fdeda",
   "metadata": {
    "tags": []
   },
   "outputs": [],
   "source": [
    "# X_train_s['Age_Days'] = X_train_s['Age'] / X_train_s['N_Days']\n",
    "# X_valid_s['Age_Days'] = X_valid_s['Age'] / X_valid_s['N_Days']"
   ]
  },
  {
   "cell_type": "code",
   "execution_count": 191,
   "id": "801069a0-4c85-4963-80d8-2e4f84e1d3a8",
   "metadata": {
    "tags": []
   },
   "outputs": [
    {
     "data": {
      "text/html": [
       "<div>\n",
       "<style scoped>\n",
       "    .dataframe tbody tr th:only-of-type {\n",
       "        vertical-align: middle;\n",
       "    }\n",
       "\n",
       "    .dataframe tbody tr th {\n",
       "        vertical-align: top;\n",
       "    }\n",
       "\n",
       "    .dataframe thead th {\n",
       "        text-align: right;\n",
       "    }\n",
       "</style>\n",
       "<table border=\"1\" class=\"dataframe\">\n",
       "  <thead>\n",
       "    <tr style=\"text-align: right;\">\n",
       "      <th></th>\n",
       "      <th>N_Days</th>\n",
       "      <th>Age</th>\n",
       "      <th>Bilirubin</th>\n",
       "      <th>Cholesterol</th>\n",
       "      <th>Albumin</th>\n",
       "      <th>Copper</th>\n",
       "      <th>Alk_Phos</th>\n",
       "      <th>SGOT</th>\n",
       "      <th>Tryglicerides</th>\n",
       "      <th>Platelets</th>\n",
       "      <th>Prothrombin</th>\n",
       "      <th>Stage</th>\n",
       "      <th>Drug</th>\n",
       "      <th>Sex</th>\n",
       "      <th>Ascites</th>\n",
       "      <th>Hepatomegaly</th>\n",
       "      <th>Spiders</th>\n",
       "      <th>Edema_0</th>\n",
       "      <th>Edema_1</th>\n",
       "      <th>Edema_2</th>\n",
       "    </tr>\n",
       "  </thead>\n",
       "  <tbody>\n",
       "    <tr>\n",
       "      <th>0</th>\n",
       "      <td>-0.943310</td>\n",
       "      <td>0.862715</td>\n",
       "      <td>-0.078655</td>\n",
       "      <td>-0.180982</td>\n",
       "      <td>-0.584240</td>\n",
       "      <td>1.162523</td>\n",
       "      <td>-0.111245</td>\n",
       "      <td>1.339802</td>\n",
       "      <td>-0.985870</td>\n",
       "      <td>1.459622</td>\n",
       "      <td>-1.184264</td>\n",
       "      <td>-0.033253</td>\n",
       "      <td>0.0</td>\n",
       "      <td>1.0</td>\n",
       "      <td>0.0</td>\n",
       "      <td>0.0</td>\n",
       "      <td>0.0</td>\n",
       "      <td>1.0</td>\n",
       "      <td>0.0</td>\n",
       "      <td>0.0</td>\n",
       "    </tr>\n",
       "    <tr>\n",
       "      <th>1</th>\n",
       "      <td>0.498745</td>\n",
       "      <td>0.240136</td>\n",
       "      <td>-0.443786</td>\n",
       "      <td>0.059980</td>\n",
       "      <td>-0.032779</td>\n",
       "      <td>-0.275524</td>\n",
       "      <td>-0.197083</td>\n",
       "      <td>0.416100</td>\n",
       "      <td>-0.516863</td>\n",
       "      <td>1.083446</td>\n",
       "      <td>0.479311</td>\n",
       "      <td>-0.033253</td>\n",
       "      <td>1.0</td>\n",
       "      <td>0.0</td>\n",
       "      <td>0.0</td>\n",
       "      <td>0.0</td>\n",
       "      <td>0.0</td>\n",
       "      <td>1.0</td>\n",
       "      <td>0.0</td>\n",
       "      <td>0.0</td>\n",
       "    </tr>\n",
       "    <tr>\n",
       "      <th>2</th>\n",
       "      <td>1.280659</td>\n",
       "      <td>-1.254595</td>\n",
       "      <td>0.182153</td>\n",
       "      <td>-0.266323</td>\n",
       "      <td>-0.003754</td>\n",
       "      <td>0.621606</td>\n",
       "      <td>-0.416212</td>\n",
       "      <td>0.097582</td>\n",
       "      <td>-1.229754</td>\n",
       "      <td>-0.763233</td>\n",
       "      <td>1.375082</td>\n",
       "      <td>1.122207</td>\n",
       "      <td>1.0</td>\n",
       "      <td>0.0</td>\n",
       "      <td>0.0</td>\n",
       "      <td>1.0</td>\n",
       "      <td>1.0</td>\n",
       "      <td>0.0</td>\n",
       "      <td>0.0</td>\n",
       "      <td>1.0</td>\n",
       "    </tr>\n",
       "    <tr>\n",
       "      <th>3</th>\n",
       "      <td>0.500576</td>\n",
       "      <td>0.029355</td>\n",
       "      <td>-0.522028</td>\n",
       "      <td>-0.482186</td>\n",
       "      <td>-0.148876</td>\n",
       "      <td>-0.341489</td>\n",
       "      <td>-0.083520</td>\n",
       "      <td>-0.889824</td>\n",
       "      <td>-0.366781</td>\n",
       "      <td>0.034715</td>\n",
       "      <td>0.095409</td>\n",
       "      <td>-0.033253</td>\n",
       "      <td>1.0</td>\n",
       "      <td>0.0</td>\n",
       "      <td>0.0</td>\n",
       "      <td>0.0</td>\n",
       "      <td>0.0</td>\n",
       "      <td>1.0</td>\n",
       "      <td>0.0</td>\n",
       "      <td>0.0</td>\n",
       "    </tr>\n",
       "    <tr>\n",
       "      <th>4</th>\n",
       "      <td>-1.136500</td>\n",
       "      <td>-0.459485</td>\n",
       "      <td>-0.391624</td>\n",
       "      <td>-0.030381</td>\n",
       "      <td>0.286489</td>\n",
       "      <td>-0.275524</td>\n",
       "      <td>-0.335172</td>\n",
       "      <td>0.224989</td>\n",
       "      <td>-0.366781</td>\n",
       "      <td>0.365293</td>\n",
       "      <td>-0.032558</td>\n",
       "      <td>1.122207</td>\n",
       "      <td>1.0</td>\n",
       "      <td>0.0</td>\n",
       "      <td>0.0</td>\n",
       "      <td>1.0</td>\n",
       "      <td>0.0</td>\n",
       "      <td>1.0</td>\n",
       "      <td>0.0</td>\n",
       "      <td>0.0</td>\n",
       "    </tr>\n",
       "    <tr>\n",
       "      <th>...</th>\n",
       "      <td>...</td>\n",
       "      <td>...</td>\n",
       "      <td>...</td>\n",
       "      <td>...</td>\n",
       "      <td>...</td>\n",
       "      <td>...</td>\n",
       "      <td>...</td>\n",
       "      <td>...</td>\n",
       "      <td>...</td>\n",
       "      <td>...</td>\n",
       "      <td>...</td>\n",
       "      <td>...</td>\n",
       "      <td>...</td>\n",
       "      <td>...</td>\n",
       "      <td>...</td>\n",
       "      <td>...</td>\n",
       "      <td>...</td>\n",
       "      <td>...</td>\n",
       "      <td>...</td>\n",
       "      <td>...</td>\n",
       "    </tr>\n",
       "    <tr>\n",
       "      <th>6319</th>\n",
       "      <td>-0.865485</td>\n",
       "      <td>-0.925808</td>\n",
       "      <td>0.156072</td>\n",
       "      <td>-0.020341</td>\n",
       "      <td>-1.019604</td>\n",
       "      <td>0.489675</td>\n",
       "      <td>-0.464730</td>\n",
       "      <td>0.110939</td>\n",
       "      <td>-0.741986</td>\n",
       "      <td>0.342495</td>\n",
       "      <td>-0.416460</td>\n",
       "      <td>1.122207</td>\n",
       "      <td>1.0</td>\n",
       "      <td>0.0</td>\n",
       "      <td>0.0</td>\n",
       "      <td>0.0</td>\n",
       "      <td>0.0</td>\n",
       "      <td>1.0</td>\n",
       "      <td>0.0</td>\n",
       "      <td>0.0</td>\n",
       "    </tr>\n",
       "    <tr>\n",
       "      <th>6320</th>\n",
       "      <td>0.788987</td>\n",
       "      <td>-1.403526</td>\n",
       "      <td>-0.495947</td>\n",
       "      <td>-1.104673</td>\n",
       "      <td>0.141367</td>\n",
       "      <td>-0.882405</td>\n",
       "      <td>-0.739308</td>\n",
       "      <td>-1.335749</td>\n",
       "      <td>-1.117192</td>\n",
       "      <td>-0.010882</td>\n",
       "      <td>-0.800362</td>\n",
       "      <td>-2.344174</td>\n",
       "      <td>1.0</td>\n",
       "      <td>0.0</td>\n",
       "      <td>0.0</td>\n",
       "      <td>0.0</td>\n",
       "      <td>0.0</td>\n",
       "      <td>1.0</td>\n",
       "      <td>0.0</td>\n",
       "      <td>0.0</td>\n",
       "    </tr>\n",
       "    <tr>\n",
       "      <th>6321</th>\n",
       "      <td>-0.491924</td>\n",
       "      <td>-1.403526</td>\n",
       "      <td>-0.339463</td>\n",
       "      <td>0.451545</td>\n",
       "      <td>0.808926</td>\n",
       "      <td>-0.117207</td>\n",
       "      <td>-0.541505</td>\n",
       "      <td>0.224989</td>\n",
       "      <td>-0.141657</td>\n",
       "      <td>-0.432654</td>\n",
       "      <td>-0.672395</td>\n",
       "      <td>1.122207</td>\n",
       "      <td>0.0</td>\n",
       "      <td>0.0</td>\n",
       "      <td>0.0</td>\n",
       "      <td>1.0</td>\n",
       "      <td>0.0</td>\n",
       "      <td>1.0</td>\n",
       "      <td>0.0</td>\n",
       "      <td>0.0</td>\n",
       "    </tr>\n",
       "    <tr>\n",
       "      <th>6322</th>\n",
       "      <td>0.193853</td>\n",
       "      <td>-0.989287</td>\n",
       "      <td>-0.548109</td>\n",
       "      <td>-0.758289</td>\n",
       "      <td>0.315513</td>\n",
       "      <td>-0.526192</td>\n",
       "      <td>-0.247734</td>\n",
       "      <td>-1.240194</td>\n",
       "      <td>0.552473</td>\n",
       "      <td>2.040984</td>\n",
       "      <td>-0.672395</td>\n",
       "      <td>-0.033253</td>\n",
       "      <td>1.0</td>\n",
       "      <td>0.0</td>\n",
       "      <td>0.0</td>\n",
       "      <td>0.0</td>\n",
       "      <td>0.0</td>\n",
       "      <td>1.0</td>\n",
       "      <td>0.0</td>\n",
       "      <td>0.0</td>\n",
       "    </tr>\n",
       "    <tr>\n",
       "      <th>6323</th>\n",
       "      <td>-0.858160</td>\n",
       "      <td>-0.943984</td>\n",
       "      <td>-0.391624</td>\n",
       "      <td>0.310983</td>\n",
       "      <td>0.054294</td>\n",
       "      <td>-0.842826</td>\n",
       "      <td>-0.267994</td>\n",
       "      <td>-0.826120</td>\n",
       "      <td>-1.135952</td>\n",
       "      <td>0.080312</td>\n",
       "      <td>-0.416460</td>\n",
       "      <td>-0.033253</td>\n",
       "      <td>0.0</td>\n",
       "      <td>0.0</td>\n",
       "      <td>0.0</td>\n",
       "      <td>0.0</td>\n",
       "      <td>0.0</td>\n",
       "      <td>1.0</td>\n",
       "      <td>0.0</td>\n",
       "      <td>0.0</td>\n",
       "    </tr>\n",
       "  </tbody>\n",
       "</table>\n",
       "<p>6324 rows × 20 columns</p>\n",
       "</div>"
      ],
      "text/plain": [
       "        N_Days       Age  Bilirubin  Cholesterol   Albumin    Copper  \\\n",
       "0    -0.943310  0.862715  -0.078655    -0.180982 -0.584240  1.162523   \n",
       "1     0.498745  0.240136  -0.443786     0.059980 -0.032779 -0.275524   \n",
       "2     1.280659 -1.254595   0.182153    -0.266323 -0.003754  0.621606   \n",
       "3     0.500576  0.029355  -0.522028    -0.482186 -0.148876 -0.341489   \n",
       "4    -1.136500 -0.459485  -0.391624    -0.030381  0.286489 -0.275524   \n",
       "...        ...       ...        ...          ...       ...       ...   \n",
       "6319 -0.865485 -0.925808   0.156072    -0.020341 -1.019604  0.489675   \n",
       "6320  0.788987 -1.403526  -0.495947    -1.104673  0.141367 -0.882405   \n",
       "6321 -0.491924 -1.403526  -0.339463     0.451545  0.808926 -0.117207   \n",
       "6322  0.193853 -0.989287  -0.548109    -0.758289  0.315513 -0.526192   \n",
       "6323 -0.858160 -0.943984  -0.391624     0.310983  0.054294 -0.842826   \n",
       "\n",
       "      Alk_Phos      SGOT  Tryglicerides  Platelets  Prothrombin     Stage  \\\n",
       "0    -0.111245  1.339802      -0.985870   1.459622    -1.184264 -0.033253   \n",
       "1    -0.197083  0.416100      -0.516863   1.083446     0.479311 -0.033253   \n",
       "2    -0.416212  0.097582      -1.229754  -0.763233     1.375082  1.122207   \n",
       "3    -0.083520 -0.889824      -0.366781   0.034715     0.095409 -0.033253   \n",
       "4    -0.335172  0.224989      -0.366781   0.365293    -0.032558  1.122207   \n",
       "...        ...       ...            ...        ...          ...       ...   \n",
       "6319 -0.464730  0.110939      -0.741986   0.342495    -0.416460  1.122207   \n",
       "6320 -0.739308 -1.335749      -1.117192  -0.010882    -0.800362 -2.344174   \n",
       "6321 -0.541505  0.224989      -0.141657  -0.432654    -0.672395  1.122207   \n",
       "6322 -0.247734 -1.240194       0.552473   2.040984    -0.672395 -0.033253   \n",
       "6323 -0.267994 -0.826120      -1.135952   0.080312    -0.416460 -0.033253   \n",
       "\n",
       "      Drug  Sex  Ascites  Hepatomegaly  Spiders  Edema_0  Edema_1  Edema_2  \n",
       "0      0.0  1.0      0.0           0.0      0.0      1.0      0.0      0.0  \n",
       "1      1.0  0.0      0.0           0.0      0.0      1.0      0.0      0.0  \n",
       "2      1.0  0.0      0.0           1.0      1.0      0.0      0.0      1.0  \n",
       "3      1.0  0.0      0.0           0.0      0.0      1.0      0.0      0.0  \n",
       "4      1.0  0.0      0.0           1.0      0.0      1.0      0.0      0.0  \n",
       "...    ...  ...      ...           ...      ...      ...      ...      ...  \n",
       "6319   1.0  0.0      0.0           0.0      0.0      1.0      0.0      0.0  \n",
       "6320   1.0  0.0      0.0           0.0      0.0      1.0      0.0      0.0  \n",
       "6321   0.0  0.0      0.0           1.0      0.0      1.0      0.0      0.0  \n",
       "6322   1.0  0.0      0.0           0.0      0.0      1.0      0.0      0.0  \n",
       "6323   0.0  0.0      0.0           0.0      0.0      1.0      0.0      0.0  \n",
       "\n",
       "[6324 rows x 20 columns]"
      ]
     },
     "execution_count": 191,
     "metadata": {},
     "output_type": "execute_result"
    }
   ],
   "source": [
    "X_train_s"
   ]
  },
  {
   "cell_type": "code",
   "execution_count": 192,
   "id": "8f43b5d1-a580-4c64-8b45-3651420208f3",
   "metadata": {
    "tags": []
   },
   "outputs": [],
   "source": [
    "def neg_crossentropy(y_true, y_pred):\n",
    "    y_true = encoder.transform(y_true.iloc[:].values.reshape(-1,1))\n",
    "    return (K.sum(y_true* K.log(y_pred))/float(len(y_true))).numpy()\n",
    "\n",
    "def pos_crossentropy(y_true, y_pred):\n",
    "    y_true = encoder.transform(y_true.iloc[:].values.reshape(-1,1))\n",
    "    return -(K.sum(y_true* K.log(y_pred))/float(len(y_true))).numpy()\n",
    "\n",
    "def cross_entropy(y_train_true, y_train_pred, y_valid_true, y_valid_pred):\n",
    "    return 'train crossentropy: {},   validation crossentropy: {}'.format(pos_crossentropy(y_train_true, y_train_pred), \n",
    "                                                                          pos_crossentropy(y_valid_true, y_valid_pred))"
   ]
  },
  {
   "cell_type": "markdown",
   "id": "82b18e0e-7fba-4b5a-9d0e-c12467b78854",
   "metadata": {},
   "source": [
    "# Models"
   ]
  },
  {
   "cell_type": "markdown",
   "id": "4d60930d-a0e6-4044-8c10-d8078a89fd97",
   "metadata": {},
   "source": [
    "## models without oversampling"
   ]
  },
  {
   "cell_type": "code",
   "execution_count": 195,
   "id": "060267a0-0d69-4732-ae96-2429a0814f10",
   "metadata": {},
   "outputs": [],
   "source": [
    "lr = LogisticRegression(random_state=42, multi_class='multinomial', C=0.01) #multinomial, ovr, bad estimator\n",
    "dt = DecisionTreeClassifier(random_state=42,criterion='entropy') #overfit but it is good\n",
    "svc = SVC(kernel='rbf', random_state=42, probability=True, shrinking=False) #very good, but little overfiting\n",
    "rf = RandomForestClassifier(n_estimators=100, random_state=42) #overfit like dt but good result\n",
    "gb = GradientBoostingClassifier(loss='log_loss', learning_rate=0.1, n_estimators=180, random_state=42, subsample=1.0, max_depth=3) # best estimetor\n",
    "vc = VotingClassifier(estimators=[('lr',lr), ('svc',svc), ('rf',rf)], voting='soft') # good estimetor but overfits\n",
    "ab = AdaBoostClassifier(estimator=dt, n_estimators=60, random_state=42)\n",
    "bc = BaggingClassifier(estimator=svc, n_estimators=20, random_state=42)\n",
    "xg = XGBClassifier(n_estimators=500, max_depth=3, learning_rate=.05, eval_metric=pos_crossentropy, objective='multi:softmax')\n",
    "lr_cv = LogisticRegressionCV(random_state=42)\n",
    "\n",
    "y_train_pred, y_valid_pred, model = plot_lib.train(xg, X_train_s, y_train, X_valid_s)"
   ]
  },
  {
   "cell_type": "code",
   "execution_count": 196,
   "id": "c59596de-5469-4a10-ac65-2456c7751544",
   "metadata": {
    "tags": []
   },
   "outputs": [
    {
     "data": {
      "text/plain": [
       "'train crossentropy: 0.3237093389034271,   validation crossentropy: 0.44349685311317444'"
      ]
     },
     "execution_count": 196,
     "metadata": {},
     "output_type": "execute_result"
    }
   ],
   "source": [
    "cross_entropy(y_train, y_train_pred, y_valid, y_valid_pred)"
   ]
  },
  {
   "cell_type": "code",
   "execution_count": 148,
   "id": "68caf561-9cce-494f-96ce-c487b8e4aaa1",
   "metadata": {
    "tags": []
   },
   "outputs": [
    {
     "data": {
      "text/html": [
       "<style>#sk-container-id-25 {color: black;background-color: white;}#sk-container-id-25 pre{padding: 0;}#sk-container-id-25 div.sk-toggleable {background-color: white;}#sk-container-id-25 label.sk-toggleable__label {cursor: pointer;display: block;width: 100%;margin-bottom: 0;padding: 0.3em;box-sizing: border-box;text-align: center;}#sk-container-id-25 label.sk-toggleable__label-arrow:before {content: \"▸\";float: left;margin-right: 0.25em;color: #696969;}#sk-container-id-25 label.sk-toggleable__label-arrow:hover:before {color: black;}#sk-container-id-25 div.sk-estimator:hover label.sk-toggleable__label-arrow:before {color: black;}#sk-container-id-25 div.sk-toggleable__content {max-height: 0;max-width: 0;overflow: hidden;text-align: left;background-color: #f0f8ff;}#sk-container-id-25 div.sk-toggleable__content pre {margin: 0.2em;color: black;border-radius: 0.25em;background-color: #f0f8ff;}#sk-container-id-25 input.sk-toggleable__control:checked~div.sk-toggleable__content {max-height: 200px;max-width: 100%;overflow: auto;}#sk-container-id-25 input.sk-toggleable__control:checked~label.sk-toggleable__label-arrow:before {content: \"▾\";}#sk-container-id-25 div.sk-estimator input.sk-toggleable__control:checked~label.sk-toggleable__label {background-color: #d4ebff;}#sk-container-id-25 div.sk-label input.sk-toggleable__control:checked~label.sk-toggleable__label {background-color: #d4ebff;}#sk-container-id-25 input.sk-hidden--visually {border: 0;clip: rect(1px 1px 1px 1px);clip: rect(1px, 1px, 1px, 1px);height: 1px;margin: -1px;overflow: hidden;padding: 0;position: absolute;width: 1px;}#sk-container-id-25 div.sk-estimator {font-family: monospace;background-color: #f0f8ff;border: 1px dotted black;border-radius: 0.25em;box-sizing: border-box;margin-bottom: 0.5em;}#sk-container-id-25 div.sk-estimator:hover {background-color: #d4ebff;}#sk-container-id-25 div.sk-parallel-item::after {content: \"\";width: 100%;border-bottom: 1px solid gray;flex-grow: 1;}#sk-container-id-25 div.sk-label:hover label.sk-toggleable__label {background-color: #d4ebff;}#sk-container-id-25 div.sk-serial::before {content: \"\";position: absolute;border-left: 1px solid gray;box-sizing: border-box;top: 0;bottom: 0;left: 50%;z-index: 0;}#sk-container-id-25 div.sk-serial {display: flex;flex-direction: column;align-items: center;background-color: white;padding-right: 0.2em;padding-left: 0.2em;position: relative;}#sk-container-id-25 div.sk-item {position: relative;z-index: 1;}#sk-container-id-25 div.sk-parallel {display: flex;align-items: stretch;justify-content: center;background-color: white;position: relative;}#sk-container-id-25 div.sk-item::before, #sk-container-id-25 div.sk-parallel-item::before {content: \"\";position: absolute;border-left: 1px solid gray;box-sizing: border-box;top: 0;bottom: 0;left: 50%;z-index: -1;}#sk-container-id-25 div.sk-parallel-item {display: flex;flex-direction: column;z-index: 1;position: relative;background-color: white;}#sk-container-id-25 div.sk-parallel-item:first-child::after {align-self: flex-end;width: 50%;}#sk-container-id-25 div.sk-parallel-item:last-child::after {align-self: flex-start;width: 50%;}#sk-container-id-25 div.sk-parallel-item:only-child::after {width: 0;}#sk-container-id-25 div.sk-dashed-wrapped {border: 1px dashed gray;margin: 0 0.4em 0.5em 0.4em;box-sizing: border-box;padding-bottom: 0.4em;background-color: white;}#sk-container-id-25 div.sk-label label {font-family: monospace;font-weight: bold;display: inline-block;line-height: 1.2em;}#sk-container-id-25 div.sk-label-container {text-align: center;}#sk-container-id-25 div.sk-container {/* jupyter's `normalize.less` sets `[hidden] { display: none; }` but bootstrap.min.css set `[hidden] { display: none !important; }` so we also need the `!important` here to be able to override the default hidden behavior on the sphinx rendered scikit-learn.org. See: https://github.com/scikit-learn/scikit-learn/issues/21755 */display: inline-block !important;position: relative;}#sk-container-id-25 div.sk-text-repr-fallback {display: none;}</style><div id=\"sk-container-id-25\" class=\"sk-top-container\"><div class=\"sk-text-repr-fallback\"><pre>GridSearchCV(cv=4, estimator=GradientBoostingClassifier(random_state=42),\n",
       "             n_jobs=-1,\n",
       "             param_grid={&#x27;learning_rate&#x27;: [0.08, 0.09, 0.1],\n",
       "                         &#x27;max_depth&#x27;: [2, 3, 4, 5],\n",
       "                         &#x27;n_estimators&#x27;: [100, 120, 140, 160, 180, 200]})</pre><b>In a Jupyter environment, please rerun this cell to show the HTML representation or trust the notebook. <br />On GitHub, the HTML representation is unable to render, please try loading this page with nbviewer.org.</b></div><div class=\"sk-container\" hidden><div class=\"sk-item sk-dashed-wrapped\"><div class=\"sk-label-container\"><div class=\"sk-label sk-toggleable\"><input class=\"sk-toggleable__control sk-hidden--visually\" id=\"sk-estimator-id-49\" type=\"checkbox\" ><label for=\"sk-estimator-id-49\" class=\"sk-toggleable__label sk-toggleable__label-arrow\">GridSearchCV</label><div class=\"sk-toggleable__content\"><pre>GridSearchCV(cv=4, estimator=GradientBoostingClassifier(random_state=42),\n",
       "             n_jobs=-1,\n",
       "             param_grid={&#x27;learning_rate&#x27;: [0.08, 0.09, 0.1],\n",
       "                         &#x27;max_depth&#x27;: [2, 3, 4, 5],\n",
       "                         &#x27;n_estimators&#x27;: [100, 120, 140, 160, 180, 200]})</pre></div></div></div><div class=\"sk-parallel\"><div class=\"sk-parallel-item\"><div class=\"sk-item\"><div class=\"sk-label-container\"><div class=\"sk-label sk-toggleable\"><input class=\"sk-toggleable__control sk-hidden--visually\" id=\"sk-estimator-id-50\" type=\"checkbox\" ><label for=\"sk-estimator-id-50\" class=\"sk-toggleable__label sk-toggleable__label-arrow\">estimator: GradientBoostingClassifier</label><div class=\"sk-toggleable__content\"><pre>GradientBoostingClassifier(random_state=42)</pre></div></div></div><div class=\"sk-serial\"><div class=\"sk-item\"><div class=\"sk-estimator sk-toggleable\"><input class=\"sk-toggleable__control sk-hidden--visually\" id=\"sk-estimator-id-51\" type=\"checkbox\" ><label for=\"sk-estimator-id-51\" class=\"sk-toggleable__label sk-toggleable__label-arrow\">GradientBoostingClassifier</label><div class=\"sk-toggleable__content\"><pre>GradientBoostingClassifier(random_state=42)</pre></div></div></div></div></div></div></div></div></div></div>"
      ],
      "text/plain": [
       "GridSearchCV(cv=4, estimator=GradientBoostingClassifier(random_state=42),\n",
       "             n_jobs=-1,\n",
       "             param_grid={'learning_rate': [0.08, 0.09, 0.1],\n",
       "                         'max_depth': [2, 3, 4, 5],\n",
       "                         'n_estimators': [100, 120, 140, 160, 180, 200]})"
      ]
     },
     "execution_count": 148,
     "metadata": {},
     "output_type": "execute_result"
    }
   ],
   "source": [
    "param_grid = {'max_depth':[2,3,4,5], 'learning_rate':[0.08, 0.09, 0.1], 'n_estimators':[100,120,140,160,180,200]}\n",
    "\n",
    "gs = GridSearchCV(GradientBoostingClassifier(random_state=42), param_grid=param_grid, cv=4, n_jobs=-1)\n",
    "gs.fit(ss_x.fit_transform(train.iloc[:,:-1]), train.iloc[:,-1])"
   ]
  },
  {
   "cell_type": "code",
   "execution_count": 149,
   "id": "e924343f-0e0d-48d0-a672-ff5d18381a87",
   "metadata": {
    "tags": []
   },
   "outputs": [
    {
     "data": {
      "text/html": [
       "<style>#sk-container-id-26 {color: black;background-color: white;}#sk-container-id-26 pre{padding: 0;}#sk-container-id-26 div.sk-toggleable {background-color: white;}#sk-container-id-26 label.sk-toggleable__label {cursor: pointer;display: block;width: 100%;margin-bottom: 0;padding: 0.3em;box-sizing: border-box;text-align: center;}#sk-container-id-26 label.sk-toggleable__label-arrow:before {content: \"▸\";float: left;margin-right: 0.25em;color: #696969;}#sk-container-id-26 label.sk-toggleable__label-arrow:hover:before {color: black;}#sk-container-id-26 div.sk-estimator:hover label.sk-toggleable__label-arrow:before {color: black;}#sk-container-id-26 div.sk-toggleable__content {max-height: 0;max-width: 0;overflow: hidden;text-align: left;background-color: #f0f8ff;}#sk-container-id-26 div.sk-toggleable__content pre {margin: 0.2em;color: black;border-radius: 0.25em;background-color: #f0f8ff;}#sk-container-id-26 input.sk-toggleable__control:checked~div.sk-toggleable__content {max-height: 200px;max-width: 100%;overflow: auto;}#sk-container-id-26 input.sk-toggleable__control:checked~label.sk-toggleable__label-arrow:before {content: \"▾\";}#sk-container-id-26 div.sk-estimator input.sk-toggleable__control:checked~label.sk-toggleable__label {background-color: #d4ebff;}#sk-container-id-26 div.sk-label input.sk-toggleable__control:checked~label.sk-toggleable__label {background-color: #d4ebff;}#sk-container-id-26 input.sk-hidden--visually {border: 0;clip: rect(1px 1px 1px 1px);clip: rect(1px, 1px, 1px, 1px);height: 1px;margin: -1px;overflow: hidden;padding: 0;position: absolute;width: 1px;}#sk-container-id-26 div.sk-estimator {font-family: monospace;background-color: #f0f8ff;border: 1px dotted black;border-radius: 0.25em;box-sizing: border-box;margin-bottom: 0.5em;}#sk-container-id-26 div.sk-estimator:hover {background-color: #d4ebff;}#sk-container-id-26 div.sk-parallel-item::after {content: \"\";width: 100%;border-bottom: 1px solid gray;flex-grow: 1;}#sk-container-id-26 div.sk-label:hover label.sk-toggleable__label {background-color: #d4ebff;}#sk-container-id-26 div.sk-serial::before {content: \"\";position: absolute;border-left: 1px solid gray;box-sizing: border-box;top: 0;bottom: 0;left: 50%;z-index: 0;}#sk-container-id-26 div.sk-serial {display: flex;flex-direction: column;align-items: center;background-color: white;padding-right: 0.2em;padding-left: 0.2em;position: relative;}#sk-container-id-26 div.sk-item {position: relative;z-index: 1;}#sk-container-id-26 div.sk-parallel {display: flex;align-items: stretch;justify-content: center;background-color: white;position: relative;}#sk-container-id-26 div.sk-item::before, #sk-container-id-26 div.sk-parallel-item::before {content: \"\";position: absolute;border-left: 1px solid gray;box-sizing: border-box;top: 0;bottom: 0;left: 50%;z-index: -1;}#sk-container-id-26 div.sk-parallel-item {display: flex;flex-direction: column;z-index: 1;position: relative;background-color: white;}#sk-container-id-26 div.sk-parallel-item:first-child::after {align-self: flex-end;width: 50%;}#sk-container-id-26 div.sk-parallel-item:last-child::after {align-self: flex-start;width: 50%;}#sk-container-id-26 div.sk-parallel-item:only-child::after {width: 0;}#sk-container-id-26 div.sk-dashed-wrapped {border: 1px dashed gray;margin: 0 0.4em 0.5em 0.4em;box-sizing: border-box;padding-bottom: 0.4em;background-color: white;}#sk-container-id-26 div.sk-label label {font-family: monospace;font-weight: bold;display: inline-block;line-height: 1.2em;}#sk-container-id-26 div.sk-label-container {text-align: center;}#sk-container-id-26 div.sk-container {/* jupyter's `normalize.less` sets `[hidden] { display: none; }` but bootstrap.min.css set `[hidden] { display: none !important; }` so we also need the `!important` here to be able to override the default hidden behavior on the sphinx rendered scikit-learn.org. See: https://github.com/scikit-learn/scikit-learn/issues/21755 */display: inline-block !important;position: relative;}#sk-container-id-26 div.sk-text-repr-fallback {display: none;}</style><div id=\"sk-container-id-26\" class=\"sk-top-container\"><div class=\"sk-text-repr-fallback\"><pre>GradientBoostingClassifier(max_depth=4, n_estimators=140, random_state=42)</pre><b>In a Jupyter environment, please rerun this cell to show the HTML representation or trust the notebook. <br />On GitHub, the HTML representation is unable to render, please try loading this page with nbviewer.org.</b></div><div class=\"sk-container\" hidden><div class=\"sk-item\"><div class=\"sk-estimator sk-toggleable\"><input class=\"sk-toggleable__control sk-hidden--visually\" id=\"sk-estimator-id-52\" type=\"checkbox\" checked><label for=\"sk-estimator-id-52\" class=\"sk-toggleable__label sk-toggleable__label-arrow\">GradientBoostingClassifier</label><div class=\"sk-toggleable__content\"><pre>GradientBoostingClassifier(max_depth=4, n_estimators=140, random_state=42)</pre></div></div></div></div></div>"
      ],
      "text/plain": [
       "GradientBoostingClassifier(max_depth=4, n_estimators=140, random_state=42)"
      ]
     },
     "execution_count": 149,
     "metadata": {},
     "output_type": "execute_result"
    }
   ],
   "source": [
    "gs.best_estimator_"
   ]
  },
  {
   "cell_type": "code",
   "execution_count": 49,
   "id": "80f44ad6-b318-4356-b7cd-64c8ee47aa8f",
   "metadata": {
    "tags": []
   },
   "outputs": [],
   "source": [
    "# models = {'lr':lr, 'dt':dt, 'svc':svc, 'rf':rf, 'gb':gb, 'vc':vc, 'ab':ab, 'bc':bc}"
   ]
  },
  {
   "cell_type": "code",
   "execution_count": 50,
   "id": "95d6badf-76f7-4e5c-90e8-68ba2a96a0ac",
   "metadata": {
    "tags": []
   },
   "outputs": [],
   "source": [
    "# scores = dict()\n",
    "\n",
    "# for name, model in models.items():\n",
    "#     y_train_pred, y_valid_pred, model = plot_lib.train(model, X_train_s, y_train, X_valid_s)\n",
    "#     scores[name] = -K.sum(y_valid_encoder.iloc[:,:].values* K.log(y_valid_pred))/float(len(y_valid_encoder))"
   ]
  },
  {
   "cell_type": "code",
   "execution_count": 51,
   "id": "26fcd3b0-3dad-4c84-8933-5867419ce451",
   "metadata": {
    "tags": []
   },
   "outputs": [],
   "source": [
    "# scores"
   ]
  },
  {
   "cell_type": "code",
   "execution_count": 154,
   "id": "c6fdaf78-c630-4590-af2a-ec8abe5ee58d",
   "metadata": {
    "tags": []
   },
   "outputs": [
    {
     "name": "stdout",
     "output_type": "stream",
     "text": [
      "train\n",
      "\n",
      "              precision    recall  f1-score   support\n",
      "\n",
      "           0       0.89      0.95      0.92      4481\n",
      "           1       0.89      0.44      0.59       247\n",
      "           2       0.88      0.82      0.85      2386\n",
      "\n",
      "    accuracy                           0.89      7114\n",
      "   macro avg       0.89      0.74      0.79      7114\n",
      "weighted avg       0.89      0.89      0.89      7114\n",
      "\n",
      "\n",
      "\n",
      "validation\n",
      "\n",
      "              precision    recall  f1-score   support\n",
      "\n",
      "           0       0.84      0.92      0.88       484\n",
      "           1       0.55      0.21      0.31        28\n",
      "           2       0.82      0.73      0.77       279\n",
      "\n",
      "    accuracy                           0.83       791\n",
      "   macro avg       0.73      0.62      0.65       791\n",
      "weighted avg       0.82      0.83      0.82       791\n",
      "\n",
      "\n"
     ]
    }
   ],
   "source": [
    "plot_lib.show_classification_report(y_train, y_train_pred, y_valid, y_valid_pred)"
   ]
  },
  {
   "cell_type": "code",
   "execution_count": 130,
   "id": "562cef98-8aab-4df0-8af5-e0c5fa70f5fb",
   "metadata": {
    "tags": []
   },
   "outputs": [],
   "source": [
    "# plot_lib.plot_precision_recall_curve(y_train_encoder, y_train_pred, y_valid_encoder, y_valid_pred)"
   ]
  },
  {
   "cell_type": "code",
   "execution_count": 197,
   "id": "cb387861-332c-4e08-9c54-2611fbd9bb75",
   "metadata": {
    "tags": []
   },
   "outputs": [],
   "source": [
    "pd.concat([id_test,pd.DataFrame(model.predict_proba(test_s), columns=['Status_C', 'Status_CL', 'Status_D'])], axis=1).to_csv('sample_submission.csv',index=False)"
   ]
  },
  {
   "cell_type": "markdown",
   "id": "a793e8d6-ceb1-4f93-9b77-f837ec0c5c41",
   "metadata": {
    "jp-MarkdownHeadingCollapsed": true,
    "tags": []
   },
   "source": [
    "## models with manipulated features"
   ]
  },
  {
   "cell_type": "code",
   "execution_count": 172,
   "id": "b1a5699d-df29-4430-a04d-0dd7822767ac",
   "metadata": {
    "tags": []
   },
   "outputs": [],
   "source": [
    "p_x = PolynomialFeatures(degree=2, include_bias=False)\n",
    "num_poly_columns=['poly_'+str(i) for i in range(90)]\n",
    "\n",
    "X_train_p = pd.concat([pd.DataFrame(p_x.fit_transform(X_train[num_columns]), columns=num_poly_columns), X_train[cat_columns]], axis=1)\n",
    "X_valid_p = pd.concat([pd.DataFrame(p_x.transform(X_valid[num_columns]), columns=num_poly_columns), X_valid[cat_columns]], axis=1)"
   ]
  },
  {
   "cell_type": "code",
   "execution_count": 237,
   "id": "c0b819bc-adf7-4d8c-afc9-d3a7d239d90d",
   "metadata": {
    "tags": []
   },
   "outputs": [],
   "source": [
    "test_p = pd.concat([pd.DataFrame(p_x.transform(test[num_columns]), columns=num_poly_columns), test[cat_columns]], axis=1)"
   ]
  },
  {
   "cell_type": "code",
   "execution_count": 173,
   "id": "53d8cea7-8f7b-47ad-8565-d0eeb2ea8c9b",
   "metadata": {
    "tags": []
   },
   "outputs": [],
   "source": [
    "ss_x = StandardScaler()\n",
    "X_train_p_s = pd.concat([pd.DataFrame(ss_x.fit_transform(X_train_p[num_poly_columns]), columns=num_poly_columns), X_train[cat_columns]], axis=1)\n",
    "X_valid_p_s = pd.concat([pd.DataFrame(ss_x.fit_transform(X_valid_p[num_poly_columns]), columns=num_poly_columns), X_valid[cat_columns]], axis=1)"
   ]
  },
  {
   "cell_type": "code",
   "execution_count": 238,
   "id": "6408ea05-bc3f-4ff7-899a-a89e8bb1b0d3",
   "metadata": {
    "tags": []
   },
   "outputs": [],
   "source": [
    "test_p_s = pd.concat([pd.DataFrame(ss_x.transform(test_p[num_poly_columns]), columns=num_poly_columns), test_p[cat_columns]], axis=1)"
   ]
  },
  {
   "cell_type": "code",
   "execution_count": 186,
   "id": "978fb748-d02f-4022-b3a4-486f7855ee95",
   "metadata": {
    "tags": []
   },
   "outputs": [],
   "source": [
    "lr = LogisticRegression(random_state=42, multi_class='multinomial', C=0.001) #multinomial, ovr, bad estimator\n",
    "dt = DecisionTreeClassifier(random_state=42,criterion='entropy') #overfit but it is good\n",
    "svc = SVC(kernel='rbf', random_state=42, probability=True, shrinking=False) #very good, but little overfiting\n",
    "rf = RandomForestClassifier(n_estimators=100, random_state=42) #overfit like dt but good result\n",
    "gb = GradientBoostingClassifier(loss='log_loss', learning_rate=0.1, n_estimators=140, random_state=42, subsample=1.0, max_depth=4) # best estimetor\n",
    "vc = VotingClassifier(estimators=[('lr',lr), ('svc',svc), ('rf',rf)], voting='soft') # good estimetor but overfits\n",
    "ab = AdaBoostClassifier(estimator=dt, n_estimators=60, random_state=42)\n",
    "bc = BaggingClassifier(estimator=svc, n_estimators=20, random_state=42)\n",
    "xg = XGBClassifier(n_estimators=400, max_depth=3, learning_rate=.1)\n",
    "\n",
    "y_train_pred, y_valid_pred, model = plot_lib.train(svc, X_train_p_s, y_train, X_valid_p_s)"
   ]
  },
  {
   "cell_type": "code",
   "execution_count": 187,
   "id": "00efd252-e73a-4f0e-a2c7-b167cd16caac",
   "metadata": {
    "tags": []
   },
   "outputs": [
    {
     "data": {
      "text/plain": [
       "0.5109799036465281"
      ]
     },
     "execution_count": 187,
     "metadata": {},
     "output_type": "execute_result"
    }
   ],
   "source": [
    "pos_crossentropy(y_valid, y_valid_pred)"
   ]
  },
  {
   "cell_type": "markdown",
   "id": "3ccd80a5-0e34-4bf7-8f13-0e98a764a5bd",
   "metadata": {
    "jp-MarkdownHeadingCollapsed": true,
    "tags": []
   },
   "source": [
    "## models with oversampling"
   ]
  },
  {
   "cell_type": "code",
   "execution_count": 156,
   "id": "9b5ea32d-c05f-4e29-b726-7ed449159482",
   "metadata": {
    "tags": []
   },
   "outputs": [],
   "source": [
    "sm = over_sampling.SMOTE(random_state=42, k_neighbors=7)\n",
    "a = sm.fit_resample(X_train_s.iloc[:,:].values, y_train.iloc[:].values.reshape(-1,1))"
   ]
  },
  {
   "cell_type": "code",
   "execution_count": 157,
   "id": "ab803c90-2f2f-4bdc-8734-579ce5710811",
   "metadata": {
    "tags": []
   },
   "outputs": [],
   "source": [
    "X_train_sm = pd.DataFrame(a[0], columns=X_train_s.columns.tolist())\n",
    "y_train_sm = pd.DataFrame(a[1], columns=[y_train.name])"
   ]
  },
  {
   "cell_type": "code",
   "execution_count": 158,
   "id": "35ca4a8e-bc79-4e91-8465-f65997d08e1c",
   "metadata": {
    "tags": []
   },
   "outputs": [
    {
     "data": {
      "text/plain": [
       "Status\n",
       "0         4481\n",
       "1         4481\n",
       "2         4481\n",
       "dtype: int64"
      ]
     },
     "execution_count": 158,
     "metadata": {},
     "output_type": "execute_result"
    }
   ],
   "source": [
    "y_train_sm.value_counts()"
   ]
  },
  {
   "cell_type": "code",
   "execution_count": 159,
   "id": "f020c401-c12b-4f7b-ab56-5f0a0ac2a516",
   "metadata": {
    "tags": []
   },
   "outputs": [],
   "source": [
    "y_train_sm_encoder = pd.DataFrame(encoder.transform(y_train_sm.iloc[:].values.reshape(-1,1)), columns=['d', 'c', 'cl'])"
   ]
  },
  {
   "cell_type": "code",
   "execution_count": 161,
   "id": "6c13a6da-2863-478b-bb8b-8e429287cff7",
   "metadata": {
    "tags": []
   },
   "outputs": [
    {
     "name": "stdout",
     "output_type": "stream",
     "text": [
      "train\n",
      "\n",
      "              precision    recall  f1-score   support\n",
      "\n",
      "           0       0.89      0.92      0.90      4481\n",
      "           1       0.92      0.96      0.94      4481\n",
      "           2       0.91      0.84      0.88      4481\n",
      "\n",
      "    accuracy                           0.91     13443\n",
      "   macro avg       0.91      0.91      0.91     13443\n",
      "weighted avg       0.91      0.91      0.91     13443\n",
      "\n",
      "\n",
      "\n",
      "validation\n",
      "\n",
      "              precision    recall  f1-score   support\n",
      "\n",
      "           0       0.85      0.88      0.86       484\n",
      "           1       0.27      0.32      0.30        28\n",
      "           2       0.80      0.74      0.77       279\n",
      "\n",
      "    accuracy                           0.81       791\n",
      "   macro avg       0.64      0.65      0.64       791\n",
      "weighted avg       0.81      0.81      0.81       791\n",
      "\n",
      "\n"
     ]
    }
   ],
   "source": [
    "y_train_pred, y_valid_pred, model = plot_lib.train(xg, X_train_sm, y_train_sm, X_valid_s)\n",
    "plot_lib.show_classification_report(y_train_sm, y_train_pred, y_valid, y_valid_pred)"
   ]
  },
  {
   "cell_type": "code",
   "execution_count": 162,
   "id": "ab256e3b-9885-4316-bf0a-9958234bc704",
   "metadata": {
    "tags": []
   },
   "outputs": [
    {
     "data": {
      "text/plain": [
       "'train crossentropy: 0.28502294421195984,   validation crossentropy: 0.4965282380580902'"
      ]
     },
     "execution_count": 162,
     "metadata": {},
     "output_type": "execute_result"
    }
   ],
   "source": [
    "cross_entropy(y_train_sm, y_train_pred, y_valid, y_valid_pred)"
   ]
  },
  {
   "cell_type": "code",
   "execution_count": 301,
   "id": "389ecabc-9e60-4d4a-8769-df1bc3f03d50",
   "metadata": {
    "tags": []
   },
   "outputs": [],
   "source": [
    "pd.concat([id_test,pd.DataFrame(model.predict_proba(test_s), columns=['Status_C', 'Status_CL', 'Status_D'])], axis=1).to_csv('sample_submission.csv',index=False)"
   ]
  },
  {
   "cell_type": "markdown",
   "id": "5e3dde01-8471-442a-aadd-97fada50160b",
   "metadata": {
    "jp-MarkdownHeadingCollapsed": true,
    "tags": []
   },
   "source": [
    "## models with ANN"
   ]
  },
  {
   "cell_type": "code",
   "execution_count": 17,
   "id": "59168b68-5347-49df-881f-7414424afb98",
   "metadata": {
    "tags": []
   },
   "outputs": [
    {
     "name": "stderr",
     "output_type": "stream",
     "text": [
      "2023-12-13 21:57:48.854619: I external/local_xla/xla/stream_executor/cuda/cuda_executor.cc:901] successful NUMA node read from SysFS had negative value (-1), but there must be at least one NUMA node, so returning NUMA node zero. See more at https://github.com/torvalds/linux/blob/v6.0/Documentation/ABI/testing/sysfs-bus-pci#L344-L355\n",
      "2023-12-13 21:57:48.855866: W tensorflow/core/common_runtime/gpu/gpu_device.cc:2256] Cannot dlopen some GPU libraries. Please make sure the missing libraries mentioned above are installed properly if you would like to use GPU. Follow the guide at https://www.tensorflow.org/install/gpu for how to download and setup the required libraries for your platform.\n",
      "Skipping registering GPU devices...\n"
     ]
    }
   ],
   "source": [
    "input_x = tf.keras.Input(shape=(X_train_s.shape[1],))\n",
    "x = tf.keras.layers.Dense(20)(input_x)\n",
    "x = tf.keras.layers.Dropout(0.4)(x)\n",
    "x = tf.keras.layers.Dense(30, activation='leaky_relu')(x)\n",
    "x = tf.keras.layers.BatchNormalization(center=False)(x)\n",
    "# x = tf.keras.layers.Dropout(0.4)(x)\n",
    "x = tf.keras.layers.Dense(30, activation='leaky_relu')(x)\n",
    "x = tf.keras.layers.Dropout(0.2)(x)\n",
    "output = tf.keras.layers.Dense(3, activation='softmax')(x)\n",
    "\n",
    "model = tf.keras.Model(input_x, output)"
   ]
  },
  {
   "cell_type": "code",
   "execution_count": 288,
   "id": "3d382909-aeed-4eed-a051-d32cc474a6c7",
   "metadata": {
    "tags": []
   },
   "outputs": [],
   "source": [
    "def loss_f(y_true, y_pred):\n",
    "    return -K.sum(y_true*K.log(y_pred))/32."
   ]
  },
  {
   "cell_type": "code",
   "execution_count": 289,
   "id": "0ec1860f-8a14-405b-bdb4-d62dcdc954fa",
   "metadata": {
    "tags": []
   },
   "outputs": [],
   "source": [
    "def acc_f(y_true, y_pred):\n",
    "    return K.sum(K.cast(K.argmax(y_true,axis=1) == K.argmax(y_pred, axis=1), dtype=tf.int32))/len(y_true)"
   ]
  },
  {
   "cell_type": "code",
   "execution_count": 39,
   "id": "43ea38e0-c810-4264-8b31-2ea0b0e9fe84",
   "metadata": {
    "tags": []
   },
   "outputs": [],
   "source": [
    "model.compile(optimizer='adam', loss='categorical_crossentropy', metrics=['accuracy'])  #'categorical_crossentropy'"
   ]
  },
  {
   "cell_type": "code",
   "execution_count": 40,
   "id": "69f8f1e5-b0f0-4655-9abf-c93449b221b1",
   "metadata": {
    "collapsed": true,
    "jupyter": {
     "outputs_hidden": true
    },
    "tags": []
   },
   "outputs": [
    {
     "name": "stdout",
     "output_type": "stream",
     "text": [
      "Epoch 1/300\n",
      "198/198 [==============================] - 1s 3ms/step - loss: 0.5095 - accuracy: 0.8077 - val_loss: 0.4918 - val_accuracy: 0.8102\n",
      "Epoch 2/300\n",
      "198/198 [==============================] - 0s 2ms/step - loss: 0.5118 - accuracy: 0.8060 - val_loss: 0.4883 - val_accuracy: 0.8147\n",
      "Epoch 3/300\n",
      "198/198 [==============================] - 0s 2ms/step - loss: 0.5103 - accuracy: 0.8085 - val_loss: 0.4851 - val_accuracy: 0.8109\n",
      "Epoch 4/300\n",
      "198/198 [==============================] - 0s 2ms/step - loss: 0.5036 - accuracy: 0.8039 - val_loss: 0.4872 - val_accuracy: 0.8096\n",
      "Epoch 5/300\n",
      "198/198 [==============================] - 0s 2ms/step - loss: 0.5040 - accuracy: 0.8031 - val_loss: 0.4874 - val_accuracy: 0.8115\n",
      "Epoch 6/300\n",
      "198/198 [==============================] - 0s 2ms/step - loss: 0.5068 - accuracy: 0.8038 - val_loss: 0.4863 - val_accuracy: 0.8128\n",
      "Epoch 7/300\n",
      "198/198 [==============================] - 0s 2ms/step - loss: 0.5032 - accuracy: 0.8028 - val_loss: 0.4850 - val_accuracy: 0.8128\n",
      "Epoch 8/300\n",
      "198/198 [==============================] - 0s 2ms/step - loss: 0.5096 - accuracy: 0.8036 - val_loss: 0.4851 - val_accuracy: 0.8153\n",
      "Epoch 9/300\n",
      "198/198 [==============================] - 0s 2ms/step - loss: 0.5086 - accuracy: 0.8044 - val_loss: 0.4899 - val_accuracy: 0.8140\n",
      "Epoch 10/300\n",
      "198/198 [==============================] - 0s 2ms/step - loss: 0.5049 - accuracy: 0.8036 - val_loss: 0.4855 - val_accuracy: 0.8147\n",
      "Epoch 11/300\n",
      "198/198 [==============================] - 0s 2ms/step - loss: 0.5052 - accuracy: 0.8063 - val_loss: 0.4863 - val_accuracy: 0.8159\n",
      "Epoch 12/300\n",
      "198/198 [==============================] - 0s 2ms/step - loss: 0.5074 - accuracy: 0.8038 - val_loss: 0.4899 - val_accuracy: 0.8172\n",
      "Epoch 13/300\n",
      "198/198 [==============================] - 0s 2ms/step - loss: 0.5026 - accuracy: 0.8112 - val_loss: 0.4854 - val_accuracy: 0.8134\n",
      "Epoch 14/300\n",
      "198/198 [==============================] - 0s 2ms/step - loss: 0.4999 - accuracy: 0.8052 - val_loss: 0.4847 - val_accuracy: 0.8147\n",
      "Epoch 15/300\n",
      "198/198 [==============================] - 0s 2ms/step - loss: 0.5028 - accuracy: 0.8009 - val_loss: 0.4843 - val_accuracy: 0.8166\n",
      "Epoch 16/300\n",
      "198/198 [==============================] - 0s 2ms/step - loss: 0.5107 - accuracy: 0.8041 - val_loss: 0.4854 - val_accuracy: 0.8121\n",
      "Epoch 17/300\n",
      "198/198 [==============================] - 0s 2ms/step - loss: 0.5068 - accuracy: 0.8008 - val_loss: 0.4870 - val_accuracy: 0.8109\n",
      "Epoch 18/300\n",
      "198/198 [==============================] - 0s 2ms/step - loss: 0.5042 - accuracy: 0.8058 - val_loss: 0.4861 - val_accuracy: 0.8109\n",
      "Epoch 19/300\n",
      "198/198 [==============================] - 0s 2ms/step - loss: 0.5081 - accuracy: 0.8025 - val_loss: 0.4859 - val_accuracy: 0.8077\n",
      "Epoch 20/300\n",
      "198/198 [==============================] - 0s 2ms/step - loss: 0.5075 - accuracy: 0.8058 - val_loss: 0.4875 - val_accuracy: 0.8096\n",
      "Epoch 21/300\n",
      "198/198 [==============================] - 0s 2ms/step - loss: 0.5052 - accuracy: 0.8033 - val_loss: 0.4892 - val_accuracy: 0.8071\n",
      "Epoch 22/300\n",
      "198/198 [==============================] - 0s 2ms/step - loss: 0.5083 - accuracy: 0.8038 - val_loss: 0.4870 - val_accuracy: 0.8121\n",
      "Epoch 23/300\n",
      "198/198 [==============================] - 0s 2ms/step - loss: 0.5062 - accuracy: 0.8080 - val_loss: 0.4868 - val_accuracy: 0.8115\n",
      "Epoch 24/300\n",
      "198/198 [==============================] - 0s 2ms/step - loss: 0.5086 - accuracy: 0.8020 - val_loss: 0.4864 - val_accuracy: 0.8121\n",
      "Epoch 25/300\n",
      "198/198 [==============================] - 0s 2ms/step - loss: 0.5066 - accuracy: 0.8023 - val_loss: 0.4835 - val_accuracy: 0.8115\n",
      "Epoch 26/300\n",
      "198/198 [==============================] - 0s 2ms/step - loss: 0.5032 - accuracy: 0.8077 - val_loss: 0.4865 - val_accuracy: 0.8115\n",
      "Epoch 27/300\n",
      "198/198 [==============================] - 0s 2ms/step - loss: 0.5024 - accuracy: 0.8060 - val_loss: 0.4854 - val_accuracy: 0.8140\n",
      "Epoch 28/300\n",
      "198/198 [==============================] - 0s 2ms/step - loss: 0.5060 - accuracy: 0.8049 - val_loss: 0.4824 - val_accuracy: 0.8109\n",
      "Epoch 29/300\n",
      "198/198 [==============================] - 0s 2ms/step - loss: 0.5040 - accuracy: 0.8066 - val_loss: 0.4844 - val_accuracy: 0.8083\n",
      "Epoch 30/300\n",
      "198/198 [==============================] - 0s 2ms/step - loss: 0.4994 - accuracy: 0.8063 - val_loss: 0.4861 - val_accuracy: 0.8109\n",
      "Epoch 31/300\n",
      "198/198 [==============================] - 0s 2ms/step - loss: 0.5037 - accuracy: 0.8055 - val_loss: 0.4852 - val_accuracy: 0.8115\n",
      "Epoch 32/300\n",
      "198/198 [==============================] - 0s 2ms/step - loss: 0.5071 - accuracy: 0.8061 - val_loss: 0.4889 - val_accuracy: 0.8109\n",
      "Epoch 33/300\n",
      "198/198 [==============================] - 0s 2ms/step - loss: 0.5051 - accuracy: 0.8042 - val_loss: 0.4912 - val_accuracy: 0.8147\n",
      "Epoch 34/300\n",
      "198/198 [==============================] - 0s 2ms/step - loss: 0.4994 - accuracy: 0.8087 - val_loss: 0.4883 - val_accuracy: 0.8071\n",
      "Epoch 35/300\n",
      "198/198 [==============================] - 0s 2ms/step - loss: 0.5005 - accuracy: 0.8080 - val_loss: 0.4865 - val_accuracy: 0.8109\n",
      "Epoch 36/300\n",
      "198/198 [==============================] - 0s 2ms/step - loss: 0.5024 - accuracy: 0.8025 - val_loss: 0.4853 - val_accuracy: 0.8128\n",
      "Epoch 37/300\n",
      "198/198 [==============================] - 0s 2ms/step - loss: 0.5023 - accuracy: 0.8055 - val_loss: 0.4852 - val_accuracy: 0.8102\n",
      "Epoch 38/300\n",
      "198/198 [==============================] - 0s 2ms/step - loss: 0.5026 - accuracy: 0.8052 - val_loss: 0.4853 - val_accuracy: 0.8166\n",
      "Epoch 39/300\n",
      "198/198 [==============================] - 0s 2ms/step - loss: 0.5025 - accuracy: 0.8049 - val_loss: 0.4882 - val_accuracy: 0.8102\n",
      "Epoch 40/300\n",
      "198/198 [==============================] - 0s 2ms/step - loss: 0.4997 - accuracy: 0.8063 - val_loss: 0.4880 - val_accuracy: 0.8096\n",
      "Epoch 41/300\n",
      "198/198 [==============================] - 0s 2ms/step - loss: 0.5068 - accuracy: 0.8042 - val_loss: 0.4878 - val_accuracy: 0.8128\n",
      "Epoch 42/300\n",
      "198/198 [==============================] - 0s 2ms/step - loss: 0.4981 - accuracy: 0.8074 - val_loss: 0.4893 - val_accuracy: 0.8096\n",
      "Epoch 43/300\n",
      "198/198 [==============================] - 0s 2ms/step - loss: 0.5026 - accuracy: 0.8099 - val_loss: 0.4860 - val_accuracy: 0.8115\n",
      "Epoch 44/300\n",
      "198/198 [==============================] - 0s 2ms/step - loss: 0.4977 - accuracy: 0.8068 - val_loss: 0.4868 - val_accuracy: 0.8159\n",
      "Epoch 45/300\n",
      "198/198 [==============================] - 0s 2ms/step - loss: 0.4981 - accuracy: 0.8077 - val_loss: 0.4837 - val_accuracy: 0.8159\n",
      "Epoch 46/300\n",
      "198/198 [==============================] - 0s 2ms/step - loss: 0.5048 - accuracy: 0.8053 - val_loss: 0.4853 - val_accuracy: 0.8121\n",
      "Epoch 47/300\n",
      "198/198 [==============================] - 0s 2ms/step - loss: 0.5075 - accuracy: 0.8055 - val_loss: 0.4853 - val_accuracy: 0.8115\n",
      "Epoch 48/300\n",
      "198/198 [==============================] - 0s 2ms/step - loss: 0.5046 - accuracy: 0.8085 - val_loss: 0.4860 - val_accuracy: 0.8140\n",
      "Epoch 49/300\n",
      "198/198 [==============================] - 0s 2ms/step - loss: 0.4995 - accuracy: 0.8053 - val_loss: 0.4833 - val_accuracy: 0.8140\n",
      "Epoch 50/300\n",
      "198/198 [==============================] - 0s 2ms/step - loss: 0.4970 - accuracy: 0.8030 - val_loss: 0.4839 - val_accuracy: 0.8121\n",
      "Epoch 51/300\n",
      "198/198 [==============================] - 0s 2ms/step - loss: 0.5010 - accuracy: 0.8072 - val_loss: 0.4845 - val_accuracy: 0.8102\n",
      "Epoch 52/300\n",
      "198/198 [==============================] - 0s 2ms/step - loss: 0.4941 - accuracy: 0.8101 - val_loss: 0.4851 - val_accuracy: 0.8121\n",
      "Epoch 53/300\n",
      "198/198 [==============================] - 0s 2ms/step - loss: 0.5014 - accuracy: 0.8095 - val_loss: 0.4879 - val_accuracy: 0.8128\n",
      "Epoch 54/300\n",
      "198/198 [==============================] - 0s 2ms/step - loss: 0.4984 - accuracy: 0.8068 - val_loss: 0.4839 - val_accuracy: 0.8115\n",
      "Epoch 55/300\n",
      "198/198 [==============================] - 0s 2ms/step - loss: 0.4982 - accuracy: 0.8098 - val_loss: 0.4836 - val_accuracy: 0.8134\n",
      "Epoch 56/300\n",
      "198/198 [==============================] - 0s 2ms/step - loss: 0.4997 - accuracy: 0.8058 - val_loss: 0.4853 - val_accuracy: 0.8109\n",
      "Epoch 57/300\n",
      "198/198 [==============================] - 0s 2ms/step - loss: 0.5018 - accuracy: 0.8044 - val_loss: 0.4847 - val_accuracy: 0.8115\n",
      "Epoch 58/300\n",
      "198/198 [==============================] - 0s 2ms/step - loss: 0.4983 - accuracy: 0.8069 - val_loss: 0.4831 - val_accuracy: 0.8115\n",
      "Epoch 59/300\n",
      "198/198 [==============================] - 0s 2ms/step - loss: 0.5013 - accuracy: 0.8115 - val_loss: 0.4835 - val_accuracy: 0.8115\n",
      "Epoch 60/300\n",
      "198/198 [==============================] - 0s 2ms/step - loss: 0.5002 - accuracy: 0.8041 - val_loss: 0.4829 - val_accuracy: 0.8134\n",
      "Epoch 61/300\n",
      "198/198 [==============================] - 0s 2ms/step - loss: 0.5010 - accuracy: 0.8095 - val_loss: 0.4853 - val_accuracy: 0.8102\n",
      "Epoch 62/300\n",
      "198/198 [==============================] - 0s 2ms/step - loss: 0.5023 - accuracy: 0.8077 - val_loss: 0.4847 - val_accuracy: 0.8134\n",
      "Epoch 63/300\n",
      "198/198 [==============================] - 0s 2ms/step - loss: 0.5034 - accuracy: 0.8068 - val_loss: 0.4835 - val_accuracy: 0.8134\n",
      "Epoch 64/300\n",
      "198/198 [==============================] - 0s 2ms/step - loss: 0.5007 - accuracy: 0.8110 - val_loss: 0.4870 - val_accuracy: 0.8140\n",
      "Epoch 65/300\n",
      "198/198 [==============================] - 0s 2ms/step - loss: 0.4980 - accuracy: 0.8052 - val_loss: 0.4855 - val_accuracy: 0.8109\n",
      "Epoch 66/300\n",
      "198/198 [==============================] - 0s 2ms/step - loss: 0.5045 - accuracy: 0.8063 - val_loss: 0.4832 - val_accuracy: 0.8128\n",
      "Epoch 67/300\n",
      "198/198 [==============================] - 0s 2ms/step - loss: 0.4969 - accuracy: 0.8044 - val_loss: 0.4876 - val_accuracy: 0.8134\n",
      "Epoch 68/300\n",
      "198/198 [==============================] - 0s 2ms/step - loss: 0.5038 - accuracy: 0.8050 - val_loss: 0.4861 - val_accuracy: 0.8058\n",
      "Epoch 69/300\n",
      "198/198 [==============================] - 0s 2ms/step - loss: 0.4995 - accuracy: 0.8066 - val_loss: 0.4846 - val_accuracy: 0.8083\n",
      "Epoch 70/300\n",
      "198/198 [==============================] - 0s 2ms/step - loss: 0.4983 - accuracy: 0.8087 - val_loss: 0.4869 - val_accuracy: 0.8096\n",
      "Epoch 71/300\n",
      "198/198 [==============================] - 0s 2ms/step - loss: 0.4961 - accuracy: 0.8112 - val_loss: 0.4860 - val_accuracy: 0.8134\n",
      "Epoch 72/300\n",
      "198/198 [==============================] - 0s 2ms/step - loss: 0.5028 - accuracy: 0.8106 - val_loss: 0.4859 - val_accuracy: 0.8083\n",
      "Epoch 73/300\n",
      "198/198 [==============================] - 0s 2ms/step - loss: 0.4978 - accuracy: 0.8082 - val_loss: 0.4836 - val_accuracy: 0.8128\n",
      "Epoch 74/300\n",
      "198/198 [==============================] - 0s 2ms/step - loss: 0.5006 - accuracy: 0.8057 - val_loss: 0.4867 - val_accuracy: 0.8102\n",
      "Epoch 75/300\n",
      "198/198 [==============================] - 0s 2ms/step - loss: 0.4977 - accuracy: 0.8072 - val_loss: 0.4835 - val_accuracy: 0.8140\n",
      "Epoch 76/300\n",
      "198/198 [==============================] - 0s 2ms/step - loss: 0.4997 - accuracy: 0.8071 - val_loss: 0.4817 - val_accuracy: 0.8121\n",
      "Epoch 77/300\n",
      "198/198 [==============================] - 0s 2ms/step - loss: 0.4992 - accuracy: 0.8082 - val_loss: 0.4853 - val_accuracy: 0.8046\n",
      "Epoch 78/300\n",
      "198/198 [==============================] - 0s 2ms/step - loss: 0.5025 - accuracy: 0.8110 - val_loss: 0.4847 - val_accuracy: 0.8121\n",
      "Epoch 79/300\n",
      "198/198 [==============================] - 0s 2ms/step - loss: 0.4997 - accuracy: 0.8072 - val_loss: 0.4844 - val_accuracy: 0.8121\n",
      "Epoch 80/300\n",
      "198/198 [==============================] - 0s 2ms/step - loss: 0.4903 - accuracy: 0.8121 - val_loss: 0.4874 - val_accuracy: 0.8147\n",
      "Epoch 81/300\n",
      "198/198 [==============================] - 0s 2ms/step - loss: 0.5042 - accuracy: 0.8063 - val_loss: 0.4843 - val_accuracy: 0.8140\n",
      "Epoch 82/300\n",
      "198/198 [==============================] - 0s 2ms/step - loss: 0.5041 - accuracy: 0.8036 - val_loss: 0.4861 - val_accuracy: 0.8102\n",
      "Epoch 83/300\n",
      "198/198 [==============================] - 0s 2ms/step - loss: 0.4996 - accuracy: 0.8101 - val_loss: 0.4855 - val_accuracy: 0.8128\n",
      "Epoch 84/300\n",
      "198/198 [==============================] - 0s 2ms/step - loss: 0.4986 - accuracy: 0.8110 - val_loss: 0.4840 - val_accuracy: 0.8147\n",
      "Epoch 85/300\n",
      "198/198 [==============================] - 0s 2ms/step - loss: 0.4945 - accuracy: 0.8110 - val_loss: 0.4856 - val_accuracy: 0.8128\n",
      "Epoch 86/300\n",
      "198/198 [==============================] - 0s 2ms/step - loss: 0.4917 - accuracy: 0.8093 - val_loss: 0.4862 - val_accuracy: 0.8159\n",
      "Epoch 87/300\n",
      "198/198 [==============================] - 0s 2ms/step - loss: 0.5022 - accuracy: 0.8027 - val_loss: 0.4871 - val_accuracy: 0.8096\n",
      "Epoch 88/300\n",
      "198/198 [==============================] - 0s 2ms/step - loss: 0.4999 - accuracy: 0.8063 - val_loss: 0.4828 - val_accuracy: 0.8128\n",
      "Epoch 89/300\n",
      "198/198 [==============================] - 0s 2ms/step - loss: 0.4951 - accuracy: 0.8074 - val_loss: 0.4841 - val_accuracy: 0.8153\n",
      "Epoch 90/300\n",
      "198/198 [==============================] - 0s 2ms/step - loss: 0.4939 - accuracy: 0.8120 - val_loss: 0.4836 - val_accuracy: 0.8115\n",
      "Epoch 91/300\n",
      "198/198 [==============================] - 0s 2ms/step - loss: 0.4967 - accuracy: 0.8131 - val_loss: 0.4876 - val_accuracy: 0.8121\n",
      "Epoch 92/300\n",
      "198/198 [==============================] - 0s 2ms/step - loss: 0.4950 - accuracy: 0.8087 - val_loss: 0.4872 - val_accuracy: 0.8102\n",
      "Epoch 93/300\n",
      "198/198 [==============================] - 0s 2ms/step - loss: 0.4978 - accuracy: 0.8047 - val_loss: 0.4831 - val_accuracy: 0.8102\n",
      "Epoch 94/300\n",
      "198/198 [==============================] - 0s 2ms/step - loss: 0.4951 - accuracy: 0.8104 - val_loss: 0.4841 - val_accuracy: 0.8102\n",
      "Epoch 95/300\n",
      "198/198 [==============================] - 0s 2ms/step - loss: 0.4934 - accuracy: 0.8058 - val_loss: 0.4838 - val_accuracy: 0.8115\n",
      "Epoch 96/300\n",
      "198/198 [==============================] - 0s 2ms/step - loss: 0.5005 - accuracy: 0.8087 - val_loss: 0.4846 - val_accuracy: 0.8083\n",
      "Epoch 97/300\n",
      "198/198 [==============================] - 0s 2ms/step - loss: 0.4979 - accuracy: 0.8104 - val_loss: 0.4868 - val_accuracy: 0.8140\n",
      "Epoch 98/300\n",
      "198/198 [==============================] - 0s 2ms/step - loss: 0.5022 - accuracy: 0.8058 - val_loss: 0.4849 - val_accuracy: 0.8109\n",
      "Epoch 99/300\n",
      "198/198 [==============================] - 0s 2ms/step - loss: 0.4964 - accuracy: 0.8106 - val_loss: 0.4854 - val_accuracy: 0.8077\n",
      "Epoch 100/300\n",
      "198/198 [==============================] - 0s 2ms/step - loss: 0.4966 - accuracy: 0.8079 - val_loss: 0.4860 - val_accuracy: 0.8109\n",
      "Epoch 101/300\n",
      "198/198 [==============================] - 0s 2ms/step - loss: 0.4962 - accuracy: 0.8083 - val_loss: 0.4828 - val_accuracy: 0.8109\n",
      "Epoch 102/300\n",
      "198/198 [==============================] - 0s 2ms/step - loss: 0.5045 - accuracy: 0.8047 - val_loss: 0.4838 - val_accuracy: 0.8096\n",
      "Epoch 103/300\n",
      "198/198 [==============================] - 0s 2ms/step - loss: 0.4987 - accuracy: 0.8046 - val_loss: 0.4815 - val_accuracy: 0.8159\n",
      "Epoch 104/300\n",
      "198/198 [==============================] - 0s 2ms/step - loss: 0.4965 - accuracy: 0.8052 - val_loss: 0.4832 - val_accuracy: 0.8109\n",
      "Epoch 105/300\n",
      "198/198 [==============================] - 0s 2ms/step - loss: 0.4898 - accuracy: 0.8096 - val_loss: 0.4838 - val_accuracy: 0.8096\n",
      "Epoch 106/300\n",
      "198/198 [==============================] - 0s 2ms/step - loss: 0.4995 - accuracy: 0.8031 - val_loss: 0.4839 - val_accuracy: 0.8115\n",
      "Epoch 107/300\n",
      "198/198 [==============================] - 0s 2ms/step - loss: 0.5043 - accuracy: 0.8049 - val_loss: 0.4844 - val_accuracy: 0.8166\n",
      "Epoch 108/300\n",
      "198/198 [==============================] - 0s 2ms/step - loss: 0.5006 - accuracy: 0.8046 - val_loss: 0.4827 - val_accuracy: 0.8090\n",
      "Epoch 109/300\n",
      "198/198 [==============================] - 0s 2ms/step - loss: 0.4976 - accuracy: 0.8082 - val_loss: 0.4850 - val_accuracy: 0.8140\n",
      "Epoch 110/300\n",
      "198/198 [==============================] - 0s 2ms/step - loss: 0.4940 - accuracy: 0.8159 - val_loss: 0.4861 - val_accuracy: 0.8102\n",
      "Epoch 111/300\n",
      "198/198 [==============================] - 0s 2ms/step - loss: 0.4997 - accuracy: 0.8112 - val_loss: 0.4853 - val_accuracy: 0.8096\n",
      "Epoch 112/300\n",
      "198/198 [==============================] - 0s 2ms/step - loss: 0.4988 - accuracy: 0.8115 - val_loss: 0.4844 - val_accuracy: 0.8115\n",
      "Epoch 113/300\n",
      "198/198 [==============================] - 0s 2ms/step - loss: 0.4946 - accuracy: 0.8110 - val_loss: 0.4846 - val_accuracy: 0.8077\n",
      "Epoch 114/300\n",
      "198/198 [==============================] - 0s 2ms/step - loss: 0.4966 - accuracy: 0.8052 - val_loss: 0.4844 - val_accuracy: 0.8134\n",
      "Epoch 115/300\n",
      "198/198 [==============================] - 0s 2ms/step - loss: 0.4938 - accuracy: 0.8107 - val_loss: 0.4844 - val_accuracy: 0.8096\n",
      "Epoch 116/300\n",
      "198/198 [==============================] - 0s 2ms/step - loss: 0.4938 - accuracy: 0.8167 - val_loss: 0.4856 - val_accuracy: 0.8121\n",
      "Epoch 117/300\n",
      "198/198 [==============================] - 0s 2ms/step - loss: 0.4974 - accuracy: 0.8117 - val_loss: 0.4850 - val_accuracy: 0.8109\n",
      "Epoch 118/300\n",
      "198/198 [==============================] - 0s 2ms/step - loss: 0.5022 - accuracy: 0.8055 - val_loss: 0.4887 - val_accuracy: 0.8014\n",
      "Epoch 119/300\n",
      "198/198 [==============================] - 0s 2ms/step - loss: 0.4956 - accuracy: 0.8099 - val_loss: 0.4846 - val_accuracy: 0.8115\n",
      "Epoch 120/300\n",
      "198/198 [==============================] - 0s 2ms/step - loss: 0.4989 - accuracy: 0.8098 - val_loss: 0.4856 - val_accuracy: 0.8096\n",
      "Epoch 121/300\n",
      "198/198 [==============================] - 0s 2ms/step - loss: 0.4976 - accuracy: 0.8087 - val_loss: 0.4867 - val_accuracy: 0.8109\n",
      "Epoch 122/300\n",
      "198/198 [==============================] - 0s 2ms/step - loss: 0.4988 - accuracy: 0.8080 - val_loss: 0.4840 - val_accuracy: 0.8102\n",
      "Epoch 123/300\n",
      "198/198 [==============================] - 0s 2ms/step - loss: 0.4949 - accuracy: 0.8090 - val_loss: 0.4849 - val_accuracy: 0.8109\n",
      "Epoch 124/300\n",
      "198/198 [==============================] - 0s 2ms/step - loss: 0.5006 - accuracy: 0.8090 - val_loss: 0.4859 - val_accuracy: 0.8109\n",
      "Epoch 125/300\n",
      "198/198 [==============================] - 0s 2ms/step - loss: 0.4955 - accuracy: 0.8107 - val_loss: 0.4871 - val_accuracy: 0.8159\n",
      "Epoch 126/300\n",
      "198/198 [==============================] - 0s 2ms/step - loss: 0.4953 - accuracy: 0.8083 - val_loss: 0.4863 - val_accuracy: 0.8147\n",
      "Epoch 127/300\n",
      "198/198 [==============================] - 0s 2ms/step - loss: 0.5018 - accuracy: 0.8098 - val_loss: 0.4849 - val_accuracy: 0.8134\n",
      "Epoch 128/300\n",
      "198/198 [==============================] - 0s 2ms/step - loss: 0.4994 - accuracy: 0.8061 - val_loss: 0.4864 - val_accuracy: 0.8083\n",
      "Epoch 129/300\n",
      "198/198 [==============================] - 0s 2ms/step - loss: 0.4984 - accuracy: 0.8115 - val_loss: 0.4892 - val_accuracy: 0.8077\n",
      "Epoch 130/300\n",
      "198/198 [==============================] - 0s 2ms/step - loss: 0.4951 - accuracy: 0.8109 - val_loss: 0.4900 - val_accuracy: 0.8140\n",
      "Epoch 131/300\n",
      "198/198 [==============================] - 0s 2ms/step - loss: 0.4911 - accuracy: 0.8061 - val_loss: 0.4860 - val_accuracy: 0.8109\n",
      "Epoch 132/300\n",
      "198/198 [==============================] - 0s 2ms/step - loss: 0.4972 - accuracy: 0.8121 - val_loss: 0.4848 - val_accuracy: 0.8128\n",
      "Epoch 133/300\n",
      "198/198 [==============================] - 0s 2ms/step - loss: 0.4979 - accuracy: 0.8057 - val_loss: 0.4868 - val_accuracy: 0.8102\n",
      "Epoch 134/300\n",
      "198/198 [==============================] - 0s 2ms/step - loss: 0.4923 - accuracy: 0.8098 - val_loss: 0.4868 - val_accuracy: 0.8102\n",
      "Epoch 135/300\n",
      "198/198 [==============================] - 0s 2ms/step - loss: 0.4995 - accuracy: 0.8098 - val_loss: 0.4886 - val_accuracy: 0.8147\n",
      "Epoch 136/300\n",
      "198/198 [==============================] - 0s 2ms/step - loss: 0.4932 - accuracy: 0.8072 - val_loss: 0.4873 - val_accuracy: 0.8046\n",
      "Epoch 137/300\n",
      "198/198 [==============================] - 0s 2ms/step - loss: 0.4917 - accuracy: 0.8099 - val_loss: 0.4888 - val_accuracy: 0.8090\n",
      "Epoch 138/300\n",
      "198/198 [==============================] - 0s 2ms/step - loss: 0.4966 - accuracy: 0.8101 - val_loss: 0.4887 - val_accuracy: 0.8096\n",
      "Epoch 139/300\n",
      "198/198 [==============================] - 0s 2ms/step - loss: 0.4940 - accuracy: 0.8072 - val_loss: 0.4874 - val_accuracy: 0.8140\n",
      "Epoch 140/300\n",
      "198/198 [==============================] - 0s 2ms/step - loss: 0.4975 - accuracy: 0.8072 - val_loss: 0.4851 - val_accuracy: 0.8121\n",
      "Epoch 141/300\n",
      "198/198 [==============================] - 0s 2ms/step - loss: 0.4928 - accuracy: 0.8039 - val_loss: 0.4894 - val_accuracy: 0.8058\n",
      "Epoch 142/300\n",
      "198/198 [==============================] - 0s 2ms/step - loss: 0.4932 - accuracy: 0.8115 - val_loss: 0.4874 - val_accuracy: 0.8178\n",
      "Epoch 143/300\n",
      "198/198 [==============================] - 0s 2ms/step - loss: 0.4962 - accuracy: 0.8090 - val_loss: 0.4887 - val_accuracy: 0.8147\n",
      "Epoch 144/300\n",
      "198/198 [==============================] - 0s 2ms/step - loss: 0.5016 - accuracy: 0.8083 - val_loss: 0.4846 - val_accuracy: 0.8115\n",
      "Epoch 145/300\n",
      "198/198 [==============================] - 0s 2ms/step - loss: 0.4921 - accuracy: 0.8102 - val_loss: 0.4852 - val_accuracy: 0.8134\n",
      "Epoch 146/300\n",
      "198/198 [==============================] - 0s 2ms/step - loss: 0.4964 - accuracy: 0.8109 - val_loss: 0.4845 - val_accuracy: 0.8159\n",
      "Epoch 147/300\n",
      "198/198 [==============================] - 0s 2ms/step - loss: 0.4965 - accuracy: 0.8083 - val_loss: 0.4933 - val_accuracy: 0.8147\n",
      "Epoch 148/300\n",
      "198/198 [==============================] - 0s 2ms/step - loss: 0.4932 - accuracy: 0.8096 - val_loss: 0.4855 - val_accuracy: 0.8102\n",
      "Epoch 149/300\n",
      "198/198 [==============================] - 0s 2ms/step - loss: 0.4902 - accuracy: 0.8110 - val_loss: 0.4867 - val_accuracy: 0.8065\n",
      "Epoch 150/300\n",
      "198/198 [==============================] - 0s 2ms/step - loss: 0.4918 - accuracy: 0.8093 - val_loss: 0.4878 - val_accuracy: 0.8128\n",
      "Epoch 151/300\n",
      "198/198 [==============================] - 0s 2ms/step - loss: 0.4948 - accuracy: 0.8072 - val_loss: 0.4880 - val_accuracy: 0.8096\n",
      "Epoch 152/300\n",
      "198/198 [==============================] - 0s 2ms/step - loss: 0.4929 - accuracy: 0.8129 - val_loss: 0.4888 - val_accuracy: 0.8109\n",
      "Epoch 153/300\n",
      "198/198 [==============================] - 0s 2ms/step - loss: 0.4905 - accuracy: 0.8065 - val_loss: 0.4939 - val_accuracy: 0.8090\n",
      "Epoch 154/300\n",
      "198/198 [==============================] - 0s 2ms/step - loss: 0.4886 - accuracy: 0.8076 - val_loss: 0.4884 - val_accuracy: 0.8077\n",
      "Epoch 155/300\n",
      "198/198 [==============================] - 0s 2ms/step - loss: 0.4973 - accuracy: 0.8077 - val_loss: 0.4867 - val_accuracy: 0.8096\n",
      "Epoch 156/300\n",
      "198/198 [==============================] - 0s 2ms/step - loss: 0.4970 - accuracy: 0.8052 - val_loss: 0.4862 - val_accuracy: 0.8102\n",
      "Epoch 157/300\n",
      "198/198 [==============================] - 0s 2ms/step - loss: 0.4967 - accuracy: 0.8053 - val_loss: 0.4878 - val_accuracy: 0.8065\n",
      "Epoch 158/300\n",
      "198/198 [==============================] - 0s 2ms/step - loss: 0.4984 - accuracy: 0.8098 - val_loss: 0.4873 - val_accuracy: 0.8065\n",
      "Epoch 159/300\n",
      "198/198 [==============================] - 0s 2ms/step - loss: 0.4948 - accuracy: 0.8101 - val_loss: 0.4848 - val_accuracy: 0.8147\n",
      "Epoch 160/300\n",
      "198/198 [==============================] - 0s 2ms/step - loss: 0.4937 - accuracy: 0.8126 - val_loss: 0.4849 - val_accuracy: 0.8102\n",
      "Epoch 161/300\n",
      "198/198 [==============================] - 0s 2ms/step - loss: 0.4969 - accuracy: 0.8031 - val_loss: 0.4828 - val_accuracy: 0.8134\n",
      "Epoch 162/300\n",
      "198/198 [==============================] - 0s 2ms/step - loss: 0.4913 - accuracy: 0.8137 - val_loss: 0.4878 - val_accuracy: 0.8065\n",
      "Epoch 163/300\n",
      "198/198 [==============================] - 0s 2ms/step - loss: 0.4920 - accuracy: 0.8104 - val_loss: 0.4867 - val_accuracy: 0.8109\n",
      "Epoch 164/300\n",
      "198/198 [==============================] - 0s 2ms/step - loss: 0.4903 - accuracy: 0.8120 - val_loss: 0.4869 - val_accuracy: 0.8140\n",
      "Epoch 165/300\n",
      "198/198 [==============================] - 0s 2ms/step - loss: 0.4967 - accuracy: 0.8071 - val_loss: 0.4862 - val_accuracy: 0.8102\n",
      "Epoch 166/300\n",
      "198/198 [==============================] - 0s 2ms/step - loss: 0.4892 - accuracy: 0.8074 - val_loss: 0.4861 - val_accuracy: 0.8102\n",
      "Epoch 167/300\n",
      "198/198 [==============================] - 0s 2ms/step - loss: 0.4936 - accuracy: 0.8090 - val_loss: 0.4849 - val_accuracy: 0.8077\n",
      "Epoch 168/300\n",
      "198/198 [==============================] - 0s 2ms/step - loss: 0.4947 - accuracy: 0.8083 - val_loss: 0.4871 - val_accuracy: 0.8128\n",
      "Epoch 169/300\n",
      "198/198 [==============================] - 0s 2ms/step - loss: 0.4956 - accuracy: 0.8058 - val_loss: 0.4851 - val_accuracy: 0.8109\n",
      "Epoch 170/300\n",
      "198/198 [==============================] - 0s 2ms/step - loss: 0.5021 - accuracy: 0.8087 - val_loss: 0.4834 - val_accuracy: 0.8115\n",
      "Epoch 171/300\n",
      "198/198 [==============================] - 0s 2ms/step - loss: 0.4900 - accuracy: 0.8150 - val_loss: 0.4856 - val_accuracy: 0.8071\n",
      "Epoch 172/300\n",
      "198/198 [==============================] - 1s 3ms/step - loss: 0.4954 - accuracy: 0.8072 - val_loss: 0.4878 - val_accuracy: 0.8096\n",
      "Epoch 173/300\n",
      "198/198 [==============================] - 0s 2ms/step - loss: 0.4923 - accuracy: 0.8109 - val_loss: 0.4847 - val_accuracy: 0.8102\n",
      "Epoch 174/300\n",
      "198/198 [==============================] - 0s 2ms/step - loss: 0.4986 - accuracy: 0.8065 - val_loss: 0.4867 - val_accuracy: 0.8065\n",
      "Epoch 175/300\n",
      "198/198 [==============================] - 0s 2ms/step - loss: 0.4946 - accuracy: 0.8072 - val_loss: 0.4825 - val_accuracy: 0.8121\n",
      "Epoch 176/300\n",
      "198/198 [==============================] - 0s 2ms/step - loss: 0.4915 - accuracy: 0.8147 - val_loss: 0.4887 - val_accuracy: 0.8083\n",
      "Epoch 177/300\n",
      "198/198 [==============================] - 0s 2ms/step - loss: 0.4959 - accuracy: 0.8079 - val_loss: 0.4845 - val_accuracy: 0.8083\n",
      "Epoch 178/300\n",
      "198/198 [==============================] - 0s 2ms/step - loss: 0.4900 - accuracy: 0.8102 - val_loss: 0.4844 - val_accuracy: 0.8109\n",
      "Epoch 179/300\n",
      "198/198 [==============================] - 0s 2ms/step - loss: 0.4864 - accuracy: 0.8134 - val_loss: 0.4880 - val_accuracy: 0.8121\n",
      "Epoch 180/300\n",
      "198/198 [==============================] - 0s 2ms/step - loss: 0.4943 - accuracy: 0.8101 - val_loss: 0.4871 - val_accuracy: 0.8153\n",
      "Epoch 181/300\n",
      "198/198 [==============================] - 0s 2ms/step - loss: 0.4921 - accuracy: 0.8131 - val_loss: 0.4850 - val_accuracy: 0.8102\n",
      "Epoch 182/300\n",
      "198/198 [==============================] - 0s 2ms/step - loss: 0.4980 - accuracy: 0.8055 - val_loss: 0.4845 - val_accuracy: 0.8090\n",
      "Epoch 183/300\n",
      "198/198 [==============================] - 0s 2ms/step - loss: 0.4903 - accuracy: 0.8061 - val_loss: 0.4864 - val_accuracy: 0.8147\n",
      "Epoch 184/300\n",
      "198/198 [==============================] - 0s 2ms/step - loss: 0.4915 - accuracy: 0.8109 - val_loss: 0.4833 - val_accuracy: 0.8121\n",
      "Epoch 185/300\n",
      "198/198 [==============================] - 0s 2ms/step - loss: 0.4889 - accuracy: 0.8118 - val_loss: 0.4841 - val_accuracy: 0.8134\n",
      "Epoch 186/300\n",
      "198/198 [==============================] - 0s 2ms/step - loss: 0.4898 - accuracy: 0.8079 - val_loss: 0.4845 - val_accuracy: 0.8090\n",
      "Epoch 187/300\n",
      "198/198 [==============================] - 0s 2ms/step - loss: 0.4930 - accuracy: 0.8088 - val_loss: 0.4850 - val_accuracy: 0.8102\n",
      "Epoch 188/300\n",
      "198/198 [==============================] - 0s 2ms/step - loss: 0.4959 - accuracy: 0.8079 - val_loss: 0.4850 - val_accuracy: 0.8115\n",
      "Epoch 189/300\n",
      "198/198 [==============================] - 0s 2ms/step - loss: 0.4943 - accuracy: 0.8106 - val_loss: 0.4892 - val_accuracy: 0.8083\n",
      "Epoch 190/300\n",
      "198/198 [==============================] - 0s 2ms/step - loss: 0.4974 - accuracy: 0.8095 - val_loss: 0.4844 - val_accuracy: 0.8134\n",
      "Epoch 191/300\n",
      "198/198 [==============================] - 0s 2ms/step - loss: 0.4933 - accuracy: 0.8106 - val_loss: 0.4876 - val_accuracy: 0.8096\n",
      "Epoch 192/300\n",
      "198/198 [==============================] - 0s 2ms/step - loss: 0.4937 - accuracy: 0.8104 - val_loss: 0.4899 - val_accuracy: 0.8096\n",
      "Epoch 193/300\n",
      "198/198 [==============================] - 0s 2ms/step - loss: 0.4915 - accuracy: 0.8110 - val_loss: 0.4871 - val_accuracy: 0.8039\n",
      "Epoch 194/300\n",
      "198/198 [==============================] - 0s 2ms/step - loss: 0.4911 - accuracy: 0.8082 - val_loss: 0.4860 - val_accuracy: 0.8102\n",
      "Epoch 195/300\n",
      "198/198 [==============================] - 0s 2ms/step - loss: 0.4915 - accuracy: 0.8091 - val_loss: 0.4873 - val_accuracy: 0.8096\n",
      "Epoch 196/300\n",
      "198/198 [==============================] - 0s 2ms/step - loss: 0.4953 - accuracy: 0.8117 - val_loss: 0.4851 - val_accuracy: 0.8115\n",
      "Epoch 197/300\n",
      "198/198 [==============================] - 0s 2ms/step - loss: 0.4977 - accuracy: 0.8080 - val_loss: 0.4857 - val_accuracy: 0.8052\n",
      "Epoch 198/300\n",
      "198/198 [==============================] - 0s 2ms/step - loss: 0.4940 - accuracy: 0.8121 - val_loss: 0.4884 - val_accuracy: 0.8096\n",
      "Epoch 199/300\n",
      "198/198 [==============================] - 0s 2ms/step - loss: 0.4924 - accuracy: 0.8077 - val_loss: 0.4855 - val_accuracy: 0.8083\n",
      "Epoch 200/300\n",
      "198/198 [==============================] - 0s 2ms/step - loss: 0.4924 - accuracy: 0.8087 - val_loss: 0.4886 - val_accuracy: 0.8102\n",
      "Epoch 201/300\n",
      "198/198 [==============================] - 0s 2ms/step - loss: 0.4913 - accuracy: 0.8074 - val_loss: 0.4892 - val_accuracy: 0.8121\n",
      "Epoch 202/300\n",
      "198/198 [==============================] - 0s 2ms/step - loss: 0.4895 - accuracy: 0.8133 - val_loss: 0.4861 - val_accuracy: 0.8096\n",
      "Epoch 203/300\n",
      "198/198 [==============================] - 0s 2ms/step - loss: 0.4958 - accuracy: 0.8093 - val_loss: 0.4854 - val_accuracy: 0.8153\n",
      "Epoch 204/300\n",
      "198/198 [==============================] - 0s 2ms/step - loss: 0.4916 - accuracy: 0.8114 - val_loss: 0.4887 - val_accuracy: 0.8083\n",
      "Epoch 205/300\n",
      "198/198 [==============================] - 0s 2ms/step - loss: 0.4918 - accuracy: 0.8128 - val_loss: 0.4908 - val_accuracy: 0.8109\n",
      "Epoch 206/300\n",
      "198/198 [==============================] - 0s 2ms/step - loss: 0.4919 - accuracy: 0.8112 - val_loss: 0.4847 - val_accuracy: 0.8090\n",
      "Epoch 207/300\n",
      "198/198 [==============================] - 0s 2ms/step - loss: 0.4947 - accuracy: 0.8080 - val_loss: 0.4856 - val_accuracy: 0.8121\n",
      "Epoch 208/300\n",
      "198/198 [==============================] - 0s 2ms/step - loss: 0.4913 - accuracy: 0.8093 - val_loss: 0.4912 - val_accuracy: 0.8096\n",
      "Epoch 209/300\n",
      "198/198 [==============================] - 0s 2ms/step - loss: 0.4905 - accuracy: 0.8080 - val_loss: 0.4869 - val_accuracy: 0.8109\n",
      "Epoch 210/300\n",
      "198/198 [==============================] - 0s 2ms/step - loss: 0.4873 - accuracy: 0.8107 - val_loss: 0.4855 - val_accuracy: 0.8065\n",
      "Epoch 211/300\n",
      "198/198 [==============================] - 0s 2ms/step - loss: 0.4914 - accuracy: 0.8109 - val_loss: 0.4866 - val_accuracy: 0.8083\n",
      "Epoch 212/300\n",
      "198/198 [==============================] - 0s 2ms/step - loss: 0.4887 - accuracy: 0.8147 - val_loss: 0.4852 - val_accuracy: 0.8083\n",
      "Epoch 213/300\n",
      "198/198 [==============================] - 0s 2ms/step - loss: 0.4978 - accuracy: 0.8087 - val_loss: 0.4867 - val_accuracy: 0.8077\n",
      "Epoch 214/300\n",
      "198/198 [==============================] - 0s 2ms/step - loss: 0.4934 - accuracy: 0.8136 - val_loss: 0.4902 - val_accuracy: 0.8115\n",
      "Epoch 215/300\n",
      "198/198 [==============================] - 0s 2ms/step - loss: 0.4910 - accuracy: 0.8136 - val_loss: 0.4856 - val_accuracy: 0.8115\n",
      "Epoch 216/300\n",
      "198/198 [==============================] - 0s 2ms/step - loss: 0.4872 - accuracy: 0.8133 - val_loss: 0.4866 - val_accuracy: 0.8096\n",
      "Epoch 217/300\n",
      "198/198 [==============================] - 0s 2ms/step - loss: 0.4899 - accuracy: 0.8155 - val_loss: 0.4888 - val_accuracy: 0.8121\n",
      "Epoch 218/300\n",
      "198/198 [==============================] - 0s 2ms/step - loss: 0.4892 - accuracy: 0.8104 - val_loss: 0.4911 - val_accuracy: 0.8121\n",
      "Epoch 219/300\n",
      "198/198 [==============================] - 0s 2ms/step - loss: 0.4893 - accuracy: 0.8104 - val_loss: 0.4927 - val_accuracy: 0.8096\n",
      "Epoch 220/300\n",
      "198/198 [==============================] - 0s 2ms/step - loss: 0.4933 - accuracy: 0.8076 - val_loss: 0.4852 - val_accuracy: 0.8121\n",
      "Epoch 221/300\n",
      "198/198 [==============================] - 0s 2ms/step - loss: 0.4903 - accuracy: 0.8112 - val_loss: 0.4894 - val_accuracy: 0.8109\n",
      "Epoch 222/300\n",
      "198/198 [==============================] - 0s 2ms/step - loss: 0.5002 - accuracy: 0.8066 - val_loss: 0.4890 - val_accuracy: 0.8109\n",
      "Epoch 223/300\n",
      "198/198 [==============================] - 0s 2ms/step - loss: 0.4904 - accuracy: 0.8126 - val_loss: 0.4885 - val_accuracy: 0.8077\n",
      "Epoch 224/300\n",
      "198/198 [==============================] - 0s 2ms/step - loss: 0.4932 - accuracy: 0.8098 - val_loss: 0.4870 - val_accuracy: 0.8065\n",
      "Epoch 225/300\n",
      "198/198 [==============================] - 0s 2ms/step - loss: 0.4967 - accuracy: 0.8079 - val_loss: 0.4885 - val_accuracy: 0.8052\n",
      "Epoch 226/300\n",
      "198/198 [==============================] - 0s 2ms/step - loss: 0.4931 - accuracy: 0.8061 - val_loss: 0.4890 - val_accuracy: 0.8096\n",
      "Epoch 227/300\n",
      "198/198 [==============================] - 0s 2ms/step - loss: 0.4961 - accuracy: 0.8057 - val_loss: 0.4871 - val_accuracy: 0.8052\n",
      "Epoch 228/300\n",
      "198/198 [==============================] - 0s 2ms/step - loss: 0.4914 - accuracy: 0.8087 - val_loss: 0.4855 - val_accuracy: 0.8128\n",
      "Epoch 229/300\n",
      "198/198 [==============================] - 0s 2ms/step - loss: 0.4888 - accuracy: 0.8098 - val_loss: 0.4855 - val_accuracy: 0.8077\n",
      "Epoch 230/300\n",
      "198/198 [==============================] - 0s 2ms/step - loss: 0.4897 - accuracy: 0.8063 - val_loss: 0.4883 - val_accuracy: 0.8109\n",
      "Epoch 231/300\n",
      "198/198 [==============================] - 0s 2ms/step - loss: 0.4976 - accuracy: 0.8072 - val_loss: 0.4851 - val_accuracy: 0.8109\n",
      "Epoch 232/300\n",
      "198/198 [==============================] - 0s 2ms/step - loss: 0.4872 - accuracy: 0.8134 - val_loss: 0.4905 - val_accuracy: 0.8134\n",
      "Epoch 233/300\n",
      "198/198 [==============================] - 0s 2ms/step - loss: 0.4919 - accuracy: 0.8099 - val_loss: 0.4884 - val_accuracy: 0.8134\n",
      "Epoch 234/300\n",
      "198/198 [==============================] - 0s 2ms/step - loss: 0.4893 - accuracy: 0.8099 - val_loss: 0.4873 - val_accuracy: 0.8090\n",
      "Epoch 235/300\n",
      "198/198 [==============================] - 0s 2ms/step - loss: 0.4933 - accuracy: 0.8069 - val_loss: 0.4846 - val_accuracy: 0.8134\n",
      "Epoch 236/300\n",
      "198/198 [==============================] - 1s 3ms/step - loss: 0.4891 - accuracy: 0.8115 - val_loss: 0.4866 - val_accuracy: 0.8121\n",
      "Epoch 237/300\n",
      "198/198 [==============================] - 1s 3ms/step - loss: 0.4974 - accuracy: 0.8110 - val_loss: 0.4859 - val_accuracy: 0.8128\n",
      "Epoch 238/300\n",
      "198/198 [==============================] - 1s 3ms/step - loss: 0.4968 - accuracy: 0.8068 - val_loss: 0.4872 - val_accuracy: 0.8159\n",
      "Epoch 239/300\n",
      "198/198 [==============================] - 1s 3ms/step - loss: 0.4914 - accuracy: 0.8102 - val_loss: 0.4853 - val_accuracy: 0.8153\n",
      "Epoch 240/300\n",
      "198/198 [==============================] - 1s 3ms/step - loss: 0.4890 - accuracy: 0.8123 - val_loss: 0.4867 - val_accuracy: 0.8140\n",
      "Epoch 241/300\n",
      "198/198 [==============================] - 0s 2ms/step - loss: 0.4970 - accuracy: 0.8047 - val_loss: 0.4858 - val_accuracy: 0.8096\n",
      "Epoch 242/300\n",
      "198/198 [==============================] - 0s 2ms/step - loss: 0.4927 - accuracy: 0.8126 - val_loss: 0.4833 - val_accuracy: 0.8134\n",
      "Epoch 243/300\n",
      "198/198 [==============================] - 1s 3ms/step - loss: 0.4883 - accuracy: 0.8110 - val_loss: 0.4853 - val_accuracy: 0.8065\n",
      "Epoch 244/300\n",
      "198/198 [==============================] - 0s 2ms/step - loss: 0.4874 - accuracy: 0.8158 - val_loss: 0.4841 - val_accuracy: 0.8121\n",
      "Epoch 245/300\n",
      "198/198 [==============================] - 0s 2ms/step - loss: 0.4908 - accuracy: 0.8085 - val_loss: 0.4866 - val_accuracy: 0.8128\n",
      "Epoch 246/300\n",
      "198/198 [==============================] - 0s 2ms/step - loss: 0.4870 - accuracy: 0.8106 - val_loss: 0.4856 - val_accuracy: 0.8121\n",
      "Epoch 247/300\n",
      "198/198 [==============================] - 0s 2ms/step - loss: 0.4956 - accuracy: 0.8123 - val_loss: 0.4873 - val_accuracy: 0.8166\n",
      "Epoch 248/300\n",
      "198/198 [==============================] - 0s 2ms/step - loss: 0.4911 - accuracy: 0.8117 - val_loss: 0.4867 - val_accuracy: 0.8121\n",
      "Epoch 249/300\n",
      "198/198 [==============================] - 0s 2ms/step - loss: 0.4908 - accuracy: 0.8126 - val_loss: 0.4840 - val_accuracy: 0.8115\n",
      "Epoch 250/300\n",
      "198/198 [==============================] - 1s 3ms/step - loss: 0.4926 - accuracy: 0.8101 - val_loss: 0.4893 - val_accuracy: 0.8077\n",
      "Epoch 251/300\n",
      "198/198 [==============================] - 0s 2ms/step - loss: 0.4901 - accuracy: 0.8112 - val_loss: 0.4892 - val_accuracy: 0.8090\n",
      "Epoch 252/300\n",
      "198/198 [==============================] - 0s 2ms/step - loss: 0.4932 - accuracy: 0.8095 - val_loss: 0.4850 - val_accuracy: 0.8115\n",
      "Epoch 253/300\n",
      "198/198 [==============================] - 0s 2ms/step - loss: 0.4902 - accuracy: 0.8117 - val_loss: 0.4833 - val_accuracy: 0.8109\n",
      "Epoch 254/300\n",
      "198/198 [==============================] - 1s 3ms/step - loss: 0.4961 - accuracy: 0.8066 - val_loss: 0.4850 - val_accuracy: 0.8159\n",
      "Epoch 255/300\n",
      "198/198 [==============================] - 1s 3ms/step - loss: 0.4921 - accuracy: 0.8082 - val_loss: 0.4843 - val_accuracy: 0.8096\n",
      "Epoch 256/300\n",
      "198/198 [==============================] - 0s 2ms/step - loss: 0.4922 - accuracy: 0.8080 - val_loss: 0.4857 - val_accuracy: 0.8121\n",
      "Epoch 257/300\n",
      "198/198 [==============================] - 0s 2ms/step - loss: 0.4882 - accuracy: 0.8098 - val_loss: 0.4847 - val_accuracy: 0.8128\n",
      "Epoch 258/300\n",
      "198/198 [==============================] - 0s 2ms/step - loss: 0.4936 - accuracy: 0.8099 - val_loss: 0.4838 - val_accuracy: 0.8147\n",
      "Epoch 259/300\n",
      "198/198 [==============================] - 0s 2ms/step - loss: 0.4927 - accuracy: 0.8104 - val_loss: 0.4842 - val_accuracy: 0.8166\n",
      "Epoch 260/300\n",
      "198/198 [==============================] - 0s 2ms/step - loss: 0.4886 - accuracy: 0.8115 - val_loss: 0.4826 - val_accuracy: 0.8083\n",
      "Epoch 261/300\n",
      "198/198 [==============================] - 0s 2ms/step - loss: 0.4904 - accuracy: 0.8101 - val_loss: 0.4855 - val_accuracy: 0.8096\n",
      "Epoch 262/300\n",
      "198/198 [==============================] - 0s 2ms/step - loss: 0.4914 - accuracy: 0.8101 - val_loss: 0.4874 - val_accuracy: 0.8128\n",
      "Epoch 263/300\n",
      "198/198 [==============================] - 0s 2ms/step - loss: 0.4946 - accuracy: 0.8104 - val_loss: 0.4843 - val_accuracy: 0.8115\n",
      "Epoch 264/300\n",
      "198/198 [==============================] - 0s 2ms/step - loss: 0.4896 - accuracy: 0.8117 - val_loss: 0.4845 - val_accuracy: 0.8128\n",
      "Epoch 265/300\n",
      "198/198 [==============================] - 0s 2ms/step - loss: 0.4932 - accuracy: 0.8102 - val_loss: 0.4850 - val_accuracy: 0.8121\n",
      "Epoch 266/300\n",
      "198/198 [==============================] - 1s 3ms/step - loss: 0.4857 - accuracy: 0.8131 - val_loss: 0.4854 - val_accuracy: 0.8096\n",
      "Epoch 267/300\n",
      "198/198 [==============================] - 0s 3ms/step - loss: 0.4949 - accuracy: 0.8114 - val_loss: 0.4881 - val_accuracy: 0.8191\n",
      "Epoch 268/300\n",
      "198/198 [==============================] - 1s 3ms/step - loss: 0.4934 - accuracy: 0.8071 - val_loss: 0.4869 - val_accuracy: 0.8147\n",
      "Epoch 269/300\n",
      "198/198 [==============================] - 1s 3ms/step - loss: 0.4945 - accuracy: 0.8068 - val_loss: 0.4865 - val_accuracy: 0.8153\n",
      "Epoch 270/300\n",
      "198/198 [==============================] - 1s 3ms/step - loss: 0.4935 - accuracy: 0.8065 - val_loss: 0.4877 - val_accuracy: 0.8128\n",
      "Epoch 271/300\n",
      "198/198 [==============================] - 1s 3ms/step - loss: 0.4868 - accuracy: 0.8147 - val_loss: 0.4847 - val_accuracy: 0.8134\n",
      "Epoch 272/300\n",
      "198/198 [==============================] - 0s 2ms/step - loss: 0.4980 - accuracy: 0.8090 - val_loss: 0.4831 - val_accuracy: 0.8147\n",
      "Epoch 273/300\n",
      "198/198 [==============================] - 0s 2ms/step - loss: 0.4950 - accuracy: 0.8117 - val_loss: 0.4878 - val_accuracy: 0.8083\n",
      "Epoch 274/300\n",
      "198/198 [==============================] - 0s 2ms/step - loss: 0.4939 - accuracy: 0.8096 - val_loss: 0.4840 - val_accuracy: 0.8115\n",
      "Epoch 275/300\n",
      "198/198 [==============================] - 0s 2ms/step - loss: 0.4875 - accuracy: 0.8118 - val_loss: 0.4915 - val_accuracy: 0.8090\n",
      "Epoch 276/300\n",
      "198/198 [==============================] - 1s 3ms/step - loss: 0.4972 - accuracy: 0.8061 - val_loss: 0.4847 - val_accuracy: 0.8121\n",
      "Epoch 277/300\n",
      "198/198 [==============================] - 1s 3ms/step - loss: 0.4927 - accuracy: 0.8125 - val_loss: 0.4837 - val_accuracy: 0.8102\n",
      "Epoch 278/300\n",
      "198/198 [==============================] - 0s 2ms/step - loss: 0.4932 - accuracy: 0.8098 - val_loss: 0.4870 - val_accuracy: 0.8140\n",
      "Epoch 279/300\n",
      "198/198 [==============================] - 0s 2ms/step - loss: 0.4878 - accuracy: 0.8140 - val_loss: 0.4863 - val_accuracy: 0.8147\n",
      "Epoch 280/300\n",
      "198/198 [==============================] - 1s 3ms/step - loss: 0.4901 - accuracy: 0.8144 - val_loss: 0.4876 - val_accuracy: 0.8115\n",
      "Epoch 281/300\n",
      "198/198 [==============================] - 0s 2ms/step - loss: 0.4938 - accuracy: 0.8121 - val_loss: 0.4860 - val_accuracy: 0.8128\n",
      "Epoch 282/300\n",
      "198/198 [==============================] - 0s 2ms/step - loss: 0.4905 - accuracy: 0.8125 - val_loss: 0.4885 - val_accuracy: 0.8115\n",
      "Epoch 283/300\n",
      "198/198 [==============================] - 0s 2ms/step - loss: 0.4871 - accuracy: 0.8129 - val_loss: 0.4870 - val_accuracy: 0.8140\n",
      "Epoch 284/300\n",
      "198/198 [==============================] - 0s 2ms/step - loss: 0.4896 - accuracy: 0.8123 - val_loss: 0.4903 - val_accuracy: 0.8140\n",
      "Epoch 285/300\n",
      "198/198 [==============================] - 1s 3ms/step - loss: 0.4938 - accuracy: 0.8128 - val_loss: 0.4949 - val_accuracy: 0.8140\n",
      "Epoch 286/300\n",
      "198/198 [==============================] - 0s 2ms/step - loss: 0.4933 - accuracy: 0.8095 - val_loss: 0.4892 - val_accuracy: 0.8109\n",
      "Epoch 287/300\n",
      "198/198 [==============================] - 0s 2ms/step - loss: 0.4902 - accuracy: 0.8088 - val_loss: 0.4873 - val_accuracy: 0.8128\n",
      "Epoch 288/300\n",
      "198/198 [==============================] - 0s 2ms/step - loss: 0.4897 - accuracy: 0.8115 - val_loss: 0.4881 - val_accuracy: 0.8109\n",
      "Epoch 289/300\n",
      "198/198 [==============================] - 1s 3ms/step - loss: 0.4921 - accuracy: 0.8091 - val_loss: 0.4899 - val_accuracy: 0.8121\n",
      "Epoch 290/300\n",
      "198/198 [==============================] - 0s 2ms/step - loss: 0.4893 - accuracy: 0.8128 - val_loss: 0.4897 - val_accuracy: 0.8121\n",
      "Epoch 291/300\n",
      "198/198 [==============================] - 0s 2ms/step - loss: 0.4872 - accuracy: 0.8148 - val_loss: 0.4868 - val_accuracy: 0.8134\n",
      "Epoch 292/300\n",
      "198/198 [==============================] - 1s 3ms/step - loss: 0.4874 - accuracy: 0.8110 - val_loss: 0.4857 - val_accuracy: 0.8166\n",
      "Epoch 293/300\n",
      "198/198 [==============================] - 1s 3ms/step - loss: 0.4893 - accuracy: 0.8129 - val_loss: 0.4877 - val_accuracy: 0.8102\n",
      "Epoch 294/300\n",
      "198/198 [==============================] - 0s 2ms/step - loss: 0.4890 - accuracy: 0.8156 - val_loss: 0.4851 - val_accuracy: 0.8109\n",
      "Epoch 295/300\n",
      "198/198 [==============================] - 0s 2ms/step - loss: 0.4901 - accuracy: 0.8080 - val_loss: 0.4877 - val_accuracy: 0.8134\n",
      "Epoch 296/300\n",
      "198/198 [==============================] - 0s 2ms/step - loss: 0.4908 - accuracy: 0.8139 - val_loss: 0.4851 - val_accuracy: 0.8140\n",
      "Epoch 297/300\n",
      "198/198 [==============================] - 0s 2ms/step - loss: 0.4920 - accuracy: 0.8106 - val_loss: 0.4860 - val_accuracy: 0.8109\n",
      "Epoch 298/300\n",
      "198/198 [==============================] - 0s 2ms/step - loss: 0.4917 - accuracy: 0.8104 - val_loss: 0.4843 - val_accuracy: 0.8153\n",
      "Epoch 299/300\n",
      "198/198 [==============================] - 0s 2ms/step - loss: 0.4914 - accuracy: 0.8085 - val_loss: 0.4872 - val_accuracy: 0.8153\n",
      "Epoch 300/300\n",
      "198/198 [==============================] - 0s 2ms/step - loss: 0.4917 - accuracy: 0.8128 - val_loss: 0.4879 - val_accuracy: 0.8140\n"
     ]
    }
   ],
   "source": [
    "history = model.fit(X_train_s.iloc[:,:].values, y_train_encoder.iloc[:,:].values, epochs=300, batch_size=32, validation_data=(X_valid_s.iloc[:,:].values, \n",
    "                                                                                                                   y_valid_encoder.iloc[:,:].values),\n",
    "                                                                                                                        verbose=1)"
   ]
  },
  {
   "cell_type": "code",
   "execution_count": 202,
   "id": "80d1da06-7c66-4e62-be4d-7e908ed4df74",
   "metadata": {
    "tags": []
   },
   "outputs": [
    {
     "data": {
      "text/plain": [
       "dict_keys(['loss', 'accuracy', 'val_loss', 'val_accuracy'])"
      ]
     },
     "execution_count": 202,
     "metadata": {},
     "output_type": "execute_result"
    }
   ],
   "source": [
    "history.history.keys()"
   ]
  },
  {
   "cell_type": "code",
   "execution_count": 43,
   "id": "0755c134-d50d-4586-8015-8ce0398a22a8",
   "metadata": {
    "tags": []
   },
   "outputs": [
    {
     "name": "stdout",
     "output_type": "stream",
     "text": [
      "198/198 [==============================] - 0s 948us/step\n",
      "50/50 [==============================] - 0s 1ms/step\n"
     ]
    },
    {
     "data": {
      "image/png": "[encoded data removed]",
      "text/plain": [
       "<Figure size 2000x3000 with 6 Axes>"
      ]
     },
     "metadata": {},
     "output_type": "display_data"
    }
   ],
   "source": [
    "plot_lib.plot_precision_recall_curve(y_train_encoder,model.predict(X_train_s.iloc[:,:].values), y_valid_encoder, model.predict(X_valid_s))"
   ]
  },
  {
   "cell_type": "code",
   "execution_count": 44,
   "id": "25b1842b-cdc5-4d7c-b416-df1fe3dda17f",
   "metadata": {
    "tags": []
   },
   "outputs": [
    {
     "name": "stdout",
     "output_type": "stream",
     "text": [
      "165/165 [==============================] - 0s 1ms/step\n"
     ]
    }
   ],
   "source": [
    "pd.concat([id_test,pd.DataFrame(model.predict(test_s), columns=['Status_C', 'Status_CL', 'Status_D'])], axis=1).to_csv('sample_submission.csv',index=False)"
   ]
  },
  {
   "cell_type": "code",
   "execution_count": null,
   "id": "4fa7369e-3ba4-4845-b06f-593d7d9e495a",
   "metadata": {},
   "outputs": [],
   "source": []
  }
 ],
 "metadata": {
  "kernelspec": {
   "display_name": "Python 3 (ipykernel)",
   "language": "python",
   "name": "python3"
  },
  "language_info": {
   "codemirror_mode": {
    "name": "ipython",
    "version": 3
   },
   "file_extension": ".py",
   "mimetype": "text/x-python",
   "name": "python",
   "nbconvert_exporter": "python",
   "pygments_lexer": "ipython3",
   "version": "3.11.4"
  }
 },
 "nbformat": 4,
 "nbformat_minor": 5
}
